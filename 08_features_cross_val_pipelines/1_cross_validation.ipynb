{
 "cells": [
  {
   "cell_type": "markdown",
   "metadata": {
    "slideshow": {
     "slide_type": "slide"
    }
   },
   "source": [
    "<center><h2>Cross Validation</h2></center>\n",
    "<center><img src=\"https://i.stack.imgur.com/c6ECF.png\" width=\"70%\"/></center>"
   ]
  },
  {
   "cell_type": "markdown",
   "metadata": {
    "slideshow": {
     "slide_type": "slide"
    }
   },
   "source": [
    "By The End Of This Session You Should Be Able To:\n",
    "----\n",
    "\n",
    "- Define Cross Validation (CV)\n",
    "- Explain why and how to do CV\n",
    "- Explain the difference between train, validate, and test datasets"
   ]
  },
  {
   "cell_type": "markdown",
   "metadata": {
    "slideshow": {
     "slide_type": "slide"
    }
   },
   "source": [
    "<center><h2>What is the goal of Machine Learning?</h2></center>"
   ]
  },
  {
   "cell_type": "markdown",
   "metadata": {
    "slideshow": {
     "slide_type": "fragment"
    }
   },
   "source": [
    "Learn a function from data that can __generalize__ to novel data"
   ]
  },
  {
   "cell_type": "markdown",
   "metadata": {
    "slideshow": {
     "slide_type": "slide"
    }
   },
   "source": [
    "<center><h2>ML Workflow</h2></center>\n",
    "\n",
    "<center><img src=\"images/img-26.png\" width=\"75%\"/></center>"
   ]
  },
  {
   "cell_type": "markdown",
   "metadata": {
    "slideshow": {
     "slide_type": "slide"
    }
   },
   "source": [
    "Cross-Validation (CV)\n",
    "-----\n",
    "\n",
    "Primary idea: Do __not__ use all your data for training.\n",
    "\n",
    "Instead, split your data into a 3 separate groups:\n",
    "\n",
    "1. Test set - Final dataset evaluation with final metric\n",
    "1. Training set - Dataset with a specific hyperparameter configuration\n",
    "1. Validation set - Paired with an training to test generalization of each set of hyperparameters"
   ]
  },
  {
   "cell_type": "markdown",
   "metadata": {
    "slideshow": {
     "slide_type": "slide"
    }
   },
   "source": [
    "<center><img src=\"images/three_way.png\" width=\"75%\"/></center>"
   ]
  },
  {
   "cell_type": "markdown",
   "metadata": {
    "slideshow": {
     "slide_type": "slide"
    }
   },
   "source": [
    "<center><img src=\"images/train_test.png\" width=\"90%\"/></center>"
   ]
  },
  {
   "cell_type": "markdown",
   "metadata": {
    "slideshow": {
     "slide_type": "slide"
    }
   },
   "source": [
    "Definitions\n",
    "------\n",
    "\n",
    "Training set: Data points used to train the model.\n",
    "\n",
    "Validation set: Data points to keep checking the performance of your model in order to improve training\n",
    "\n",
    "Testing set: Data points used to check the performance once training is __completely finished__"
   ]
  },
  {
   "cell_type": "markdown",
   "metadata": {
    "slideshow": {
     "slide_type": "slide"
    }
   },
   "source": [
    "Common uses of validation set\n",
    "-----\n",
    "\n",
    "- Compare different hyperparameter configurations\n",
    "- Compare different feature engineering representations or feature selection\n",
    "- Compare different algorithms\n",
    "- Estimate Variance (e.g., average model performance)"
   ]
  },
  {
   "cell_type": "markdown",
   "metadata": {
    "slideshow": {
     "slide_type": "skip"
    }
   },
   "source": [
    "Source: https://www.quora.com/What-is-the-definition-of-development-set-in-machine-learning"
   ]
  },
  {
   "cell_type": "markdown",
   "metadata": {
    "slideshow": {
     "slide_type": "slide"
    }
   },
   "source": [
    "k-fold CV\n",
    "------\n",
    "\n",
    "The training set is split into k smaller sets.\n",
    "\n",
    "A model is trained using k-1 of the folds as training data."
   ]
  },
  {
   "cell_type": "markdown",
   "metadata": {
    "slideshow": {
     "slide_type": "skip"
    }
   },
   "source": [
    "The final model is tested on the completely hold-out test data (the last k split)."
   ]
  },
  {
   "cell_type": "markdown",
   "metadata": {
    "slideshow": {
     "slide_type": "skip"
    }
   },
   "source": [
    "Source: https://scikit-learn.org/stable/modules/cross_validation.html"
   ]
  },
  {
   "cell_type": "code",
   "execution_count": 11,
   "metadata": {
    "slideshow": {
     "slide_type": "skip"
    }
   },
   "outputs": [],
   "source": [
    "reset -fs"
   ]
  },
  {
   "cell_type": "code",
   "execution_count": 12,
   "metadata": {
    "slideshow": {
     "slide_type": "slide"
    }
   },
   "outputs": [
    {
     "name": "stdout",
     "output_type": "stream",
     "text": [
      "Iteration            Training set observations             Validate set observations\n",
      "    1     [ 4  5  6  7  8  9 10 11 12 13 14 15 16 17 18 19] [0 1 2 3]\n",
      "    2     [ 0  1  2  3  8  9 10 11 12 13 14 15 16 17 18 19] [4 5 6 7]\n",
      "    3     [ 0  1  2  3  4  5  6  7 12 13 14 15 16 17 18 19] [ 8  9 10 11]\n",
      "    4     [ 0  1  2  3  4  5  6  7  8  9 10 11 16 17 18 19] [12 13 14 15]\n",
      "    5     [ 0  1  2  3  4  5  6  7  8  9 10 11 12 13 14 15] [16 17 18 19]\n"
     ]
    }
   ],
   "source": [
    "# Simulate splitting a dataset of 25 observations into 5 folds\n",
    "from sklearn.model_selection import KFold\n",
    "kf = KFold(n_splits=5, shuffle=False).split(range(20))\n",
    "\n",
    "print(f\"{'Iteration'} {'Training set observations':^48} {'Validate set observations'}\")\n",
    "for iteration, data in enumerate(kf, start=1):\n",
    "    print(f\"{iteration:^9} {data[0]} {data[1]}\")"
   ]
  },
  {
   "cell_type": "markdown",
   "metadata": {
    "slideshow": {
     "slide_type": "skip"
    }
   },
   "source": [
    "Source: https://github.com/justmarkham/scikit-learn-videos/blob/master/07_cross_validation.ipynb"
   ]
  },
  {
   "cell_type": "markdown",
   "metadata": {
    "slideshow": {
     "slide_type": "slide"
    }
   },
   "source": [
    "Common Sizes for Train Test Splits\n",
    "------\n",
    "\n",
    "Train / test:\n",
    "\n",
    "- 70/30 \n",
    "- 80/20\n",
    "- 90/10\n",
    "\n",
    "Mostly an empirical choice based on domain complexity and size of the data."
   ]
  },
  {
   "cell_type": "markdown",
   "metadata": {
    "slideshow": {
     "slide_type": "slide"
    }
   },
   "source": [
    "Common  Sizes for Folds \n",
    "------\n",
    "\n",
    "- k=5 \n",
    "- k=10 (tends to be the most popular)\n",
    "\n",
    "Again, an empirical choice based on how many hyperparameters and size of the data."
   ]
  },
  {
   "cell_type": "markdown",
   "metadata": {
    "slideshow": {
     "slide_type": "slide"
    }
   },
   "source": [
    "scikit-learn make CV easy\n",
    "-------\n",
    "\n",
    "You'll see an example later."
   ]
  },
  {
   "cell_type": "markdown",
   "metadata": {
    "slideshow": {
     "slide_type": "slide"
    }
   },
   "source": [
    "Let's Compare Different Model Evaluation Procedures \n",
    "-----\n",
    "\n",
    "1. Training and testing on the same data\n",
    "1. Train/test split\n",
    "1. K-fold cross-validation"
   ]
  },
  {
   "cell_type": "markdown",
   "metadata": {
    "slideshow": {
     "slide_type": "slide"
    }
   },
   "source": [
    "Training and testing on the same data\n",
    "----\n",
    "\n",
    "Rewards overly-complex models that overfit the training data.\n",
    "\n",
    "Might not necessarily generalize."
   ]
  },
  {
   "cell_type": "markdown",
   "metadata": {
    "slideshow": {
     "slide_type": "slide"
    }
   },
   "source": [
    "Check for understanding\n",
    "-----\n",
    "\n",
    "When would you want to train and test on the same data?"
   ]
  },
  {
   "cell_type": "markdown",
   "metadata": {
    "slideshow": {
     "slide_type": "fragment"
    }
   },
   "source": [
    "- Have very little data to begin with\n",
    "- Very small time budget (e.g., learning in a real-time system)\n",
    "- Sure that the new data is the same as the training data"
   ]
  },
  {
   "cell_type": "markdown",
   "metadata": {
    "slideshow": {
     "slide_type": "slide"
    }
   },
   "source": [
    "Train/test split\n",
    "-----\n",
    "\n",
    "Split the dataset into two sets, the model is trained and tested on different data\n",
    "\n",
    "Better estimate of out-of-sample performance, but still a could be a high variance estimate"
   ]
  },
  {
   "cell_type": "markdown",
   "metadata": {
    "slideshow": {
     "slide_type": "fragment"
    }
   },
   "source": [
    "Useful because:\n",
    "\n",
    "- Common\n",
    "- Simple\n",
    "- Flexible\n",
    "- Fast"
   ]
  },
  {
   "cell_type": "markdown",
   "metadata": {
    "slideshow": {
     "slide_type": "slide"
    }
   },
   "source": [
    "K-fold cross-validation\n",
    "-----\n",
    "\n",
    "Systematically create k train/validation/test splits\n",
    "\n",
    "Runs k times slower than train/test split"
   ]
  },
  {
   "cell_type": "markdown",
   "metadata": {
    "slideshow": {
     "slide_type": "slide"
    }
   },
   "source": [
    "Protip: Stratified Sampling\n",
    "-----\n",
    "\n",
    "For classification problems, stratified sampling is recommended for creating the folds\n",
    "\n",
    "Each target class should be represented with equal proportions in each of the K folds\n",
    "\n",
    "scikit-learn's `cross_val_score` function does this by default"
   ]
  },
  {
   "cell_type": "markdown",
   "metadata": {
    "slideshow": {
     "slide_type": "slide"
    }
   },
   "source": [
    "Caveat: Moar Data\n",
    "-------\n",
    "\n",
    "The size of the dev and test set should be big enough for the dev and test results to be representative of the performance of the model. "
   ]
  },
  {
   "cell_type": "markdown",
   "metadata": {
    "slideshow": {
     "slide_type": "skip"
    }
   },
   "source": [
    "If the dev set has 100 examples, the dev accuracy can vary a lot depending on the chosen dev set. For bigger datasets (>1M examples), the dev and test set can have around 10,000 examples each for instance (only 1% of the total data). "
   ]
  },
  {
   "cell_type": "markdown",
   "metadata": {
    "slideshow": {
     "slide_type": "slide"
    }
   },
   "source": [
    "Summary\n",
    "-----\n",
    "\n",
    "- (Almost) always do train/test splits\n",
    "- Whenever possible do k-fold CV\n",
    "- scikit-learn makes it easy to do the right thing"
   ]
  },
  {
   "cell_type": "markdown",
   "metadata": {
    "slideshow": {
     "slide_type": "skip"
    }
   },
   "source": [
    "Example code\n",
    "------\n",
    "\n",
    "- https://github.com/justmarkham/scikit-learn-videos/blob/master/07_cross_validation.ipynb\n",
    "\n",
    "- https://github.com/justmarkham/scikit-learn-videos/blob/master/08_grid_search.ipynb"
   ]
  },
  {
   "cell_type": "markdown",
   "metadata": {
    "slideshow": {
     "slide_type": "slide"
    }
   },
   "source": [
    " "
   ]
  },
  {
   "cell_type": "markdown",
   "metadata": {
    "slideshow": {
     "slide_type": "slide"
    }
   },
   "source": [
    "<br>\n",
    "<br> \n",
    "<br>\n",
    "\n",
    "----"
   ]
  }
 ],
 "metadata": {
  "celltoolbar": "Slideshow",
  "kernelspec": {
   "display_name": "Python 3",
   "language": "python",
   "name": "python3"
  },
  "language_info": {
   "codemirror_mode": {
    "name": "ipython",
    "version": 3
   },
   "file_extension": ".py",
   "mimetype": "text/x-python",
   "name": "python",
   "nbconvert_exporter": "python",
   "pygments_lexer": "ipython3",
   "version": "3.6.7"
  }
 },
 "nbformat": 4,
 "nbformat_minor": 2
}
