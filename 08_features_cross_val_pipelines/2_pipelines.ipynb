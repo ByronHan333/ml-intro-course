{
 "cells": [
  {
   "cell_type": "markdown",
   "metadata": {
    "slideshow": {
     "slide_type": "slide"
    }
   },
   "source": [
    "<center><h2>scikit-learn's Pipeline</h2></center>\n",
    "\n",
    "<center><img src=\"https://3qeqpr26caki16dnhd19sv6by6v-wpengine.netdna-ssl.com/wp-content/uploads/2016/06/Automate-Machine-Learning-Workflows-with-Pipelines-in-Python-and-scikit-learn.jpg\" width=\"65%\"/></center>"
   ]
  },
  {
   "cell_type": "markdown",
   "metadata": {
    "slideshow": {
     "slide_type": "slide"
    }
   },
   "source": [
    "By The End Of This Session You Should Be Able To:\n",
    "----\n",
    "\n",
    "- Write more compact and readable code with scikit-learn's Pipeline\n",
    "- Use Pipeline to automate cross validation and grid searching"
   ]
  },
  {
   "cell_type": "markdown",
   "metadata": {
    "slideshow": {
     "slide_type": "slide"
    }
   },
   "source": [
    "Typical ML Workflow\n",
    "------\n",
    "\n",
    "1. Load tidy data\n",
    "1. Split into train and test sets\n",
    "1. Do feature engineering\n",
    "1. Choose hyperparameters\n",
    "1. Fit model\n",
    "1. Evaluate model\n",
    "1. Decide if business outcome was accomplished"
   ]
  },
  {
   "cell_type": "markdown",
   "metadata": {
    "slideshow": {
     "slide_type": "slide"
    }
   },
   "source": [
    "Being a curious DS, you'll ask more and more questions …\n",
    "----\n",
    "\n",
    "What if I change this hyperparamter?\n",
    "\n",
    "What if I change the algorithm?\n",
    "\n",
    "I have low bias, but do I have low variance? I should try different variations of the data!"
   ]
  },
  {
   "cell_type": "markdown",
   "metadata": {
    "slideshow": {
     "slide_type": "slide"
    }
   },
   "source": [
    "<center><h2>Analytics is combinatorial, time is linear.</h2></center>"
   ]
  },
  {
   "cell_type": "markdown",
   "metadata": {
    "slideshow": {
     "slide_type": "slide"
    }
   },
   "source": [
    "scikit-learn's Pipeline are answer!\n",
    "------\n",
    "\n",
    "\n",
    "- Pipelines makes code more readable\n",
    "- Pipelines makes it easy to change the order or add/remove steps\n",
    "- You only have to call `fit` and `predict` once\n",
    "- Easy to write grid search over multiple parameters"
   ]
  },
  {
   "cell_type": "markdown",
   "metadata": {
    "slideshow": {
     "slide_type": "skip"
    }
   },
   "source": [
    "Source: https://stackoverflow.com/questions/33091376/python-what-is-exactly-sklearn-pipeline-pipeline"
   ]
  },
  {
   "cell_type": "markdown",
   "metadata": {
    "slideshow": {
     "slide_type": "slide"
    }
   },
   "source": [
    "scikit-learn's Transformer\n",
    "------\n",
    "\n",
    "For data preparation\n",
    "\n",
    "`fit` – find parameters from training data (if needed)   \n",
    "`transform` – apply to training or test data  \n",
    "\n",
    "Let's take a look [Dataset transformations](https://scikit-learn.org/stable/data_transforms.html)"
   ]
  },
  {
   "cell_type": "markdown",
   "metadata": {
    "slideshow": {
     "slide_type": "slide"
    }
   },
   "source": [
    "scikit-learn's Estimator\n",
    "------\n",
    "\n",
    "For modeling\n",
    "\n",
    "`fit` – find parameters from training data   \n",
    "`predict` – apply to training or test data\n",
    "\n",
    "Examples: LR, k-NN, SVM, DT,..."
   ]
  },
  {
   "cell_type": "markdown",
   "metadata": {
    "slideshow": {
     "slide_type": "slide"
    }
   },
   "source": [
    "scikit-learn's Pipeline\n",
    "------\n",
    "\n",
    "`Pipeline` class managea Machine Learning pipelines\n",
    "\n",
    "A series of Transformers on the data\n",
    "\n",
    "The last one can be a Estimator (or could be another Transformer)\n",
    "\n",
    "`Pipeline = [Transformer, Transformer, Estimator]`  \n",
    "`Pipeline = [Transformer, Transformer, Transformer]`  "
   ]
  },
  {
   "cell_type": "markdown",
   "metadata": {
    "slideshow": {
     "slide_type": "slide"
    }
   },
   "source": [
    "<center><h2>scikit-learn's Pipeline</h2></center>\n",
    "\n",
    "<center><img src=\"https://iaml.it/blog/optimizing-sklearn-pipelines/images/pipeline-diagram.png\" width=\"70%\"/></center>"
   ]
  },
  {
   "cell_type": "code",
   "execution_count": 18,
   "metadata": {
    "slideshow": {
     "slide_type": "skip"
    }
   },
   "outputs": [],
   "source": [
    "reset -fs"
   ]
  },
  {
   "cell_type": "code",
   "execution_count": 19,
   "metadata": {
    "slideshow": {
     "slide_type": "skip"
    }
   },
   "outputs": [],
   "source": [
    "import numpy as np\n",
    "\n",
    "import warnings\n",
    "warnings.filterwarnings('ignore')\n",
    "\n",
    "%matplotlib inline"
   ]
  },
  {
   "cell_type": "code",
   "execution_count": 20,
   "metadata": {
    "slideshow": {
     "slide_type": "slide"
    }
   },
   "outputs": [],
   "source": [
    "from sklearn.datasets import load_iris\n",
    "from sklearn.model_selection import train_test_split\n",
    "\n",
    "# Load and split the data\n",
    "iris = load_iris()\n",
    "X_train, X_test, y_train, y_test = train_test_split(iris.data, iris.target, test_size=0.2, random_state=42)"
   ]
  },
  {
   "cell_type": "markdown",
   "metadata": {
    "slideshow": {
     "slide_type": "skip"
    }
   },
   "source": [
    "Source: https://www.kdnuggets.com/2017/12/managing-machine-learning-workflows-scikit-learn-pipelines-part-1.html"
   ]
  },
  {
   "cell_type": "code",
   "execution_count": 21,
   "metadata": {
    "slideshow": {
     "slide_type": "slide"
    }
   },
   "outputs": [],
   "source": [
    "from sklearn.pipeline import Pipeline"
   ]
  },
  {
   "cell_type": "code",
   "execution_count": 22,
   "metadata": {
    "slideshow": {
     "slide_type": "fragment"
    }
   },
   "outputs": [],
   "source": [
    "from sklearn.preprocessing import StandardScaler\n",
    "from sklearn.decomposition import PCA\n",
    "from sklearn.tree import DecisionTreeClassifier\n",
    "\n",
    "pipe_dt = Pipeline([('scl', StandardScaler()),          # Transformer: Standardize\n",
    "                    ('pca', PCA(n_components=2)),       # Transformer: Dimension Reduction\n",
    "                    ('clf', DecisionTreeClassifier())]) # Estimator: ML algorithm"
   ]
  },
  {
   "cell_type": "code",
   "execution_count": 23,
   "metadata": {
    "slideshow": {
     "slide_type": "slide"
    }
   },
   "outputs": [
    {
     "data": {
      "text/plain": [
       "Pipeline(memory=None,\n",
       "     steps=[('scl', StandardScaler(copy=True, with_mean=True, with_std=True)), ('pca', PCA(copy=True, iterated_power='auto', n_components=2, random_state=None,\n",
       "  svd_solver='auto', tol=0.0, whiten=False)), ('clf', DecisionTreeClassifier(class_weight=None, criterion='gini', max_depth=None,\n",
       "            max...      min_weight_fraction_leaf=0.0, presort=False, random_state=None,\n",
       "            splitter='best'))])"
      ]
     },
     "execution_count": 23,
     "metadata": {},
     "output_type": "execute_result"
    }
   ],
   "source": [
    "pipe_dt.fit(X_train, y_train)"
   ]
  },
  {
   "cell_type": "code",
   "execution_count": 24,
   "metadata": {
    "slideshow": {
     "slide_type": "slide"
    }
   },
   "outputs": [
    {
     "data": {
      "text/plain": [
       "'0.8667'"
      ]
     },
     "execution_count": 24,
     "metadata": {},
     "output_type": "execute_result"
    }
   ],
   "source": [
    "f\"{pipe_dt.score(X_test, y_test):.4f}\""
   ]
  },
  {
   "cell_type": "markdown",
   "metadata": {
    "slideshow": {
     "slide_type": "slide"
    }
   },
   "source": [
    "Pipelines All The Way Down\n",
    "--------\n",
    "\n"
   ]
  },
  {
   "cell_type": "code",
   "execution_count": 25,
   "metadata": {
    "slideshow": {
     "slide_type": "slide"
    }
   },
   "outputs": [],
   "source": [
    "from sklearn.linear_model import LogisticRegression\n",
    "from sklearn.svm import SVC\n",
    "\n",
    "pipe_lr = Pipeline([('scl', StandardScaler()),\n",
    "                    ('pca', PCA(n_components=2)),\n",
    "                    ('clf', LogisticRegression())])\n",
    "\n",
    "pipe_svm = Pipeline([('scl', StandardScaler()),\n",
    "                     ('pca', PCA(n_components=2)),\n",
    "                     ('clf', SVC())])\n",
    "\n",
    "# List of pipelines for ease of iteration\n",
    "pipelines = [pipe_lr, pipe_svm, pipe_dt]"
   ]
  },
  {
   "cell_type": "code",
   "execution_count": 26,
   "metadata": {
    "slideshow": {
     "slide_type": "slide"
    }
   },
   "outputs": [],
   "source": [
    "# Fit the pipelines \n",
    "for pipe in pipelines:\n",
    "    pipe.fit(X_train, y_train) # One-liners fits all models 💥"
   ]
  },
  {
   "cell_type": "code",
   "execution_count": 27,
   "metadata": {
    "slideshow": {
     "slide_type": "slide"
    }
   },
   "outputs": [
    {
     "name": "stdout",
     "output_type": "stream",
     "text": [
      "LogisticRegression      : 0.9333\n",
      "SVC                     : 0.9000\n",
      "DecisionTreeClassifier  : 0.8667\n"
     ]
    }
   ],
   "source": [
    "# Compare accuracies\n",
    "for pipe in pipelines:\n",
    "    name = pipe.steps[-1][1].__class__.__name__.split('.')[-1] # Fluent like a boss\n",
    "    print(f\"{name:<24}: {pipe.score(X_test, y_test):.4f}\")"
   ]
  },
  {
   "cell_type": "markdown",
   "metadata": {
    "slideshow": {
     "slide_type": "slide"
    }
   },
   "source": [
    "Pipeline works well with Cross Validation\n",
    "-----\n",
    "\n",
    "A Pipeline makes it easier to compose estimators, providing simple behavior under cross-validation"
   ]
  },
  {
   "cell_type": "code",
   "execution_count": 28,
   "metadata": {
    "slideshow": {
     "slide_type": "slide"
    }
   },
   "outputs": [
    {
     "name": "stdout",
     "output_type": "stream",
     "text": [
      "0.9166666666666666\n"
     ]
    }
   ],
   "source": [
    "from sklearn.model_selection import cross_val_score, KFold\n",
    "\n",
    "kfold = KFold(n_splits=10, random_state=42)\n",
    "results = cross_val_score(pipe_dt, # Put your pipeline where an Estimator would go\n",
    "                          X_train, \n",
    "                          y_train, \n",
    "                          cv=kfold)\n",
    "print(results.mean())"
   ]
  },
  {
   "cell_type": "markdown",
   "metadata": {
    "slideshow": {
     "slide_type": "skip"
    }
   },
   "source": [
    "Source: https://machinelearningmastery.com/automate-machine-learning-workflows-pipelines-python-scikit-learn/ "
   ]
  },
  {
   "cell_type": "markdown",
   "metadata": {
    "slideshow": {
     "slide_type": "slide"
    }
   },
   "source": [
    "Pipeline is awesome for Grid Search\n",
    "----- \n",
    "\n",
    "<center><img src=\"https://i.stack.imgur.com/cIDuR.png\" width=\"75%\"/></center>"
   ]
  },
  {
   "cell_type": "code",
   "execution_count": 29,
   "metadata": {
    "slideshow": {
     "slide_type": "slide"
    }
   },
   "outputs": [
    {
     "data": {
      "text/plain": [
       "'0.9667'"
      ]
     },
     "execution_count": 29,
     "metadata": {},
     "output_type": "execute_result"
    }
   ],
   "source": [
    "from sklearn.model_selection import GridSearchCV\n",
    "\n",
    "# Grid search over each element in pipeline\n",
    "#                  <estimator>__<parameter>                            \n",
    "grid_params = dict(pca__n_components=[1, 2, 3],\n",
    "                   clf__max_depth=range(1, 5),\n",
    "                   clf__criterion=['gini', 'entropy'],\n",
    "                   clf__min_samples_leaf =range(3, 15))\n",
    "\n",
    "gs = GridSearchCV(estimator=pipe_dt, # If I had the time, I could also put a list of pipelines \n",
    "                  param_grid=grid_params,\n",
    "                  scoring='accuracy',\n",
    "                  cv=10)\n",
    "\n",
    "gs.fit(X_train, y_train)\n",
    "f\"{gs.score(X_test, y_test):.4f}\""
   ]
  },
  {
   "cell_type": "code",
   "execution_count": 30,
   "metadata": {
    "slideshow": {
     "slide_type": "slide"
    }
   },
   "outputs": [
    {
     "data": {
      "text/plain": [
       "{'clf__criterion': 'gini',\n",
       " 'clf__max_depth': 4,\n",
       " 'clf__min_samples_leaf': 4,\n",
       " 'pca__n_components': 3}"
      ]
     },
     "execution_count": 30,
     "metadata": {},
     "output_type": "execute_result"
    }
   ],
   "source": [
    "# Best parameters\n",
    "gs.best_params_"
   ]
  },
  {
   "cell_type": "code",
   "execution_count": 34,
   "metadata": {
    "slideshow": {
     "slide_type": "slide"
    }
   },
   "outputs": [
    {
     "name": "stdout",
     "output_type": "stream",
     "text": [
      "Pipeline(memory=None,\n",
      "     steps=[('scl', StandardScaler(copy=True, with_mean=True, with_std=True)), ('pca', PCA(copy=True, iterated_power='auto', n_components=3, random_state=None,\n",
      "  svd_solver='auto', tol=0.0, whiten=False)), ('clf', DecisionTreeClassifier(class_weight=None, criterion='gini', max_depth=4,\n",
      "            max_fe...      min_weight_fraction_leaf=0.0, presort=False, random_state=None,\n",
      "            splitter='best'))])\n"
     ]
    }
   ],
   "source": [
    "# Best model\n",
    "gs.best_estimator_"
   ]
  },
  {
   "cell_type": "markdown",
   "metadata": {
    "slideshow": {
     "slide_type": "slide"
    }
   },
   "source": [
    "<center><h2>Pipelines are even more important for text processing given the amount of data preprocessing needed</h2></center>\n"
   ]
  },
  {
   "cell_type": "markdown",
   "metadata": {
    "slideshow": {
     "slide_type": "slide"
    }
   },
   "source": [
    "Summary\n",
    "------\n",
    "\n",
    "- From now use Pipeline\n",
    "- Pipeline will help for hyperparameter tuning and algorithm comparisons"
   ]
  },
  {
   "cell_type": "markdown",
   "metadata": {
    "slideshow": {
     "slide_type": "slide"
    }
   },
   "source": [
    "Further Study\n",
    "------\n",
    "\n",
    "- Custom Transformer\n",
    "- FeatureUnion which concatenates the output of transformers into a composite feature space."
   ]
  },
  {
   "cell_type": "markdown",
   "metadata": {
    "slideshow": {
     "slide_type": "slide"
    }
   },
   "source": [
    " "
   ]
  }
 ],
 "metadata": {
  "celltoolbar": "Slideshow",
  "kernelspec": {
   "display_name": "Python 3",
   "language": "python",
   "name": "python3"
  },
  "language_info": {
   "codemirror_mode": {
    "name": "ipython",
    "version": 3
   },
   "file_extension": ".py",
   "mimetype": "text/x-python",
   "name": "python",
   "nbconvert_exporter": "python",
   "pygments_lexer": "ipython3",
   "version": "3.6.7"
  }
 },
 "nbformat": 4,
 "nbformat_minor": 2
}
