{
 "cells": [
  {
   "cell_type": "markdown",
   "metadata": {},
   "source": [
    "What the heck is an environment? / Why do I need you do this?\n",
    "-----\n",
    "\n",
    "Having like multiple user's a single machine, it is useful to separate Python environments. You might want to run Py 2.7 at your practicum."
   ]
  },
  {
   "cell_type": "markdown",
   "metadata": {},
   "source": [
    "Setup environment instructions\n",
    "-------- \n",
    "\n",
    "> A long journey begins with finding your shoes\n",
    "\n",
    "1. `cd` into `/ml-intro-course/resources/`\n",
    "1. `$ sh setup.py`\n",
    "1. Wait ⏳\n",
    "1. Start env `$ source activate ml`\n",
    "1. Launch `$ jupyter notebook`\n",
    "1. Run the following cells locally"
   ]
  },
  {
   "cell_type": "markdown",
   "metadata": {},
   "source": [
    "Common Errors\n",
    "-----\n",
    "\n",
    "If you get an error like `usr/package not found`, remove `env` from `conda env create -n $envname --force ` and run it again."
   ]
  },
  {
   "cell_type": "markdown",
   "metadata": {},
   "source": [
    "Using the environment\n",
    "------\n",
    "\n",
    "For this class:\n",
    "    \n",
    "1. Start environment: `$ source activate ml`\n",
    "1. Navigate into directory: `$ cd /ml-intro-course`\n",
    "1. Start Jupyter Notebook server: `$ jupyter notebook`"
   ]
  },
  {
   "cell_type": "markdown",
   "metadata": {},
   "source": [
    "Test your local install with the following cells\n",
    "-----"
   ]
  },
  {
   "cell_type": "markdown",
   "metadata": {},
   "source": [
    "Let's make sure this notebook is running in `ml` env"
   ]
  },
  {
   "cell_type": "code",
   "execution_count": 1,
   "metadata": {},
   "outputs": [],
   "source": [
    "import os"
   ]
  },
  {
   "cell_type": "code",
   "execution_count": 2,
   "metadata": {},
   "outputs": [],
   "source": [
    "assert os.environ['CONDA_DEFAULT_ENV'] == 'ml'"
   ]
  },
  {
   "cell_type": "markdown",
   "metadata": {},
   "source": [
    "Let's make sure Python is 3.6"
   ]
  },
  {
   "cell_type": "code",
   "execution_count": 4,
   "metadata": {},
   "outputs": [],
   "source": [
    "import sys\n",
    "\n",
    "assert (3, 6) <= sys.version_info < (3, 7) "
   ]
  },
  {
   "cell_type": "markdown",
   "metadata": {},
   "source": [
    "Let's make sure we can import the common packages"
   ]
  },
  {
   "cell_type": "code",
   "execution_count": 5,
   "metadata": {},
   "outputs": [],
   "source": [
    "import matplotlib.pyplot as plt\n",
    "import numpy as np\n",
    "import pandas as pd\n",
    "import seaborn as sns\n",
    "import sklearn\n",
    "\n",
    "import warnings\n",
    "warnings.filterwarnings('ignore')\n",
    "\n",
    "%matplotlib inline"
   ]
  },
  {
   "cell_type": "markdown",
   "metadata": {},
   "source": [
    "When env builds successfully:\n",
    "\n",
    "![](https://tclhost.com/L9KifST.gif)\n",
    "\n"
   ]
  },
  {
   "cell_type": "markdown",
   "metadata": {},
   "source": [
    "Summary\n",
    "-----\n",
    "\n",
    "1. We setup env once\n",
    "1. We run the env everytime\n",
    "1. We import packages as needed"
   ]
  },
  {
   "cell_type": "markdown",
   "metadata": {},
   "source": [
    "<br>\n",
    "<br> \n",
    "<br>\n",
    "\n",
    "----"
   ]
  }
 ],
 "metadata": {
  "kernelspec": {
   "display_name": "Python 3",
   "language": "python",
   "name": "python3"
  },
  "language_info": {
   "codemirror_mode": {
    "name": "ipython",
    "version": 3
   },
   "file_extension": ".py",
   "mimetype": "text/x-python",
   "name": "python",
   "nbconvert_exporter": "python",
   "pygments_lexer": "ipython3",
   "version": "3.6.6"
  }
 },
 "nbformat": 4,
 "nbformat_minor": 2
}
