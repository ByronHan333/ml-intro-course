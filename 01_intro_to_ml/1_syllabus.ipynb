{
 "cells": [
  {
   "cell_type": "markdown",
   "metadata": {
    "slideshow": {
     "slide_type": "slide"
    }
   },
   "source": [
    "<center><h1>Welcome to MSDS 621: Introduction to Machine Learning</h1></center>\n"
   ]
  },
  {
   "cell_type": "markdown",
   "metadata": {
    "slideshow": {
     "slide_type": "slide"
    }
   },
   "source": [
    "<center><h2>Syllabus</h2></center>\n",
    "<br>\n",
    "<br>\n",
    "<center><a href=\"https://github.com/brianspiering/ml-intro-course\">github.com/brianspiering/ml-intro-course</a></center>"
   ]
  },
  {
   "cell_type": "markdown",
   "metadata": {
    "slideshow": {
     "slide_type": "slide"
    }
   },
   "source": [
    "Academic Integrity Scenarios\n",
    "------"
   ]
  },
  {
   "cell_type": "markdown",
   "metadata": {
    "slideshow": {
     "slide_type": "slide"
    }
   },
   "source": [
    "Edgar is in a bind - his programming assignment is due in 45 minutes. \n",
    "\n",
    "His program works, but he hasn’t written any documentation for his code. His friend Fionn has the opposite problem; he’s been documenting as he’s been coding, but his code still has a bug that he can’t find. \n",
    "\n",
    "Edgar and Fionn reach an agreement: Edgar gets Fionn’s documentation, and Fionn gets Edgar’s code. They each integrate their individual work into a single program, and both submit completed programs on time."
   ]
  },
  {
   "cell_type": "markdown",
   "metadata": {
    "slideshow": {
     "slide_type": "slide"
    }
   },
   "source": [
    "Brian's Guidelines\n",
    "------\n",
    "\n",
    "There are no gray areas here - both students are in the wrong. \n",
    "\n",
    "Using the work of another as your own is plagiarism, and is prohibited."
   ]
  },
  {
   "cell_type": "markdown",
   "metadata": {
    "slideshow": {
     "slide_type": "fragment"
    }
   },
   "source": [
    "Had this been a team project, this sort of division of labor would be appropriate."
   ]
  },
  {
   "cell_type": "markdown",
   "metadata": {
    "slideshow": {
     "slide_type": "slide"
    }
   },
   "source": [
    "Alice has completed her ML assignment. Bob has a bug that he can't resolve.\n",
    "\n",
    "Alice should…\n",
    "\n",
    "1. Ignore Bob\n",
    "1. Be Bob's rubber duck\n",
    "1. Look at Bob's code. Provide resources and clues to help Bob discover the root cause of the bug.\n",
    "1. Grab Bob's computer and rewrite his solution. Explain it as she types."
   ]
  },
  {
   "cell_type": "markdown",
   "metadata": {
    "slideshow": {
     "slide_type": "slide"
    }
   },
   "source": [
    "Brian's Guidelines\n",
    "------\n",
    "\n",
    "Alice can ignore Bob. She has her own work to do. Bob's problems are Bob's problems.\n",
    "\n",
    "Alice can lead an ear. Often times externalizing a problem will jump start a solution.\n",
    "\n",
    "Alice can be true friend and teach Bob something by pointing him the general direction. I permit “high-level” help between students. "
   ]
  },
  {
   "cell_type": "markdown",
   "metadata": {
    "slideshow": {
     "slide_type": "slide"
    }
   },
   "source": [
    "Brian's Guidelines\n",
    "------\n",
    "\n",
    "Alice __should not__ grab Bob's computer and rewrite his solution. \n",
    "\n",
    "Alice __should not__ show Bob her working solution."
   ]
  },
  {
   "cell_type": "markdown",
   "metadata": {
    "slideshow": {
     "slide_type": "slide"
    }
   },
   "source": [
    "Viveck is stuck, his model is not converging.\n",
    "\n",
    "Viveck should…\n",
    "\n",
    "1. Talk a walk\n",
    "1. Ask Brian for help on Slack\n",
    "1. Google the answer. Once he finds the solution, copy n' paste it in.\n",
    "1. Google the answer. Once he finds the solution, adapt it for his solution. Then write a comment a explain what he did and with url reference"
   ]
  },
  {
   "cell_type": "markdown",
   "metadata": {
    "slideshow": {
     "slide_type": "slide"
    }
   },
   "source": [
    "Brian's Guidelines\n",
    "------\n",
    "\n",
    "Talking a walk is always a good idea.\n",
    "\n",
    "Asking Brian is always a good idea.\n",
    "\n",
    "Passing off work from the Internet as your own is terrible idea. __Do not__ do this ever - in any class or on the job."
   ]
  },
  {
   "cell_type": "markdown",
   "metadata": {
    "slideshow": {
     "slide_type": "slide"
    }
   },
   "source": [
    "Brian's Guidelines\n",
    "------\n",
    "\n",
    "Citing work from the Internet is acceptable. \n",
    "\n",
    "I would prefer you work through exercises on your own, consulting with your classmates, and using the package documentation. \n",
    "\n",
    "If you choose to use StackExchange, you are responsible for correctly citing all __ideas__ and code snippets taken from other sources wherever they occur in your work. \n",
    "\n",
    "Plagiarism is the act of using another’s words or ideas as your own.\n",
    "\n",
    "You do not need to cite ideas and code snippets from any course materials. Students are encouraged to modify the course examples."
   ]
  },
  {
   "cell_type": "markdown",
   "metadata": {
    "slideshow": {
     "slide_type": "slide"
    }
   },
   "source": [
    "<center><h2>Questions</h2></center> "
   ]
  },
  {
   "cell_type": "markdown",
   "metadata": {
    "slideshow": {
     "slide_type": "slide"
    }
   },
   "source": [
    "<br>\n",
    "<br> \n",
    "<br>\n",
    "\n",
    "----"
   ]
  }
 ],
 "metadata": {
  "celltoolbar": "Slideshow",
  "kernelspec": {
   "display_name": "Python 3",
   "language": "python",
   "name": "python3"
  },
  "language_info": {
   "codemirror_mode": {
    "name": "ipython",
    "version": 3
   },
   "file_extension": ".py",
   "mimetype": "text/x-python",
   "name": "python",
   "nbconvert_exporter": "python",
   "pygments_lexer": "ipython3",
   "version": "3.7.0"
  }
 },
 "nbformat": 4,
 "nbformat_minor": 2
}
