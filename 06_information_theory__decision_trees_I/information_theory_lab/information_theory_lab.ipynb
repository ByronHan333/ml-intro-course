{
 "cells": [
  {
   "cell_type": "markdown",
   "metadata": {
    "deletable": false,
    "editable": false,
    "nbgrader": {
     "checksum": "b141824f424ca1851b2979f6bd798477",
     "grade": false,
     "grade_id": "cell-588eb434a3567ee2",
     "locked": true,
     "schema_version": 1,
     "solution": false
    }
   },
   "source": [
    "Lab: Implement Entropy & K-L Divergence\n",
    "===="
   ]
  },
  {
   "cell_type": "markdown",
   "metadata": {
    "deletable": false,
    "editable": false,
    "nbgrader": {
     "checksum": "18b1bfe37b0746d61bf66408250c7330",
     "grade": false,
     "grade_id": "cell-5cc85b93d38670f4",
     "locked": true,
     "schema_version": 1,
     "solution": false
    }
   },
   "source": [
    "By The End Of This Lab You Should Be Able To:\n",
    "----\n",
    "\n",
    "- Write Python code to calculate the entropy of a discrete distribution\n",
    "- Write Python code to calculate the K-L Divergence between discrete distributions"
   ]
  },
  {
   "cell_type": "markdown",
   "metadata": {
    "deletable": false,
    "editable": false,
    "nbgrader": {
     "checksum": "6a0ab5ccc275736aa1074f8831d02151",
     "grade": false,
     "grade_id": "cell-74ffb01e1d026bb3",
     "locked": true,
     "schema_version": 1,
     "solution": false
    }
   },
   "source": [
    "dit package\n",
    "----\n",
    "\n",
    "dit is a Python package for information theory.\n",
    "\n",
    "[RTFM](http://docs.dit.io/en/latest/)"
   ]
  },
  {
   "cell_type": "code",
   "execution_count": 1,
   "metadata": {
    "deletable": false,
    "editable": false,
    "nbgrader": {
     "checksum": "cb5f5001016eb0112c66059fd946d026",
     "grade": false,
     "grade_id": "cell-205bc23113c24699",
     "locked": true,
     "schema_version": 1,
     "solution": false
    }
   },
   "outputs": [],
   "source": [
    "reset -fs"
   ]
  },
  {
   "cell_type": "code",
   "execution_count": 2,
   "metadata": {
    "deletable": false,
    "editable": false,
    "nbgrader": {
     "checksum": "cf07d1a145a34d9b274e255d539d704e",
     "grade": false,
     "grade_id": "cell-15e3109829992b8a",
     "locked": true,
     "schema_version": 1,
     "solution": false
    }
   },
   "outputs": [],
   "source": [
    "import sys\n",
    "import subprocess\n",
    "\n",
    "try:\n",
    "    import dit\n",
    "except ImportError:\n",
    "    import pip\n",
    "    subprocess.check_call([sys.executable, '-m', 'pip', 'install', 'dit'])\n",
    "    import dit"
   ]
  },
  {
   "cell_type": "code",
   "execution_count": 3,
   "metadata": {
    "deletable": false,
    "editable": false,
    "nbgrader": {
     "checksum": "099d01f08badb68e8bda5b0b00e2ca57",
     "grade": false,
     "grade_id": "cell-c680f108d648030e",
     "locked": true,
     "schema_version": 1,
     "solution": false
    }
   },
   "outputs": [
    {
     "name": "stdout",
     "output_type": "stream",
     "text": [
      "Class:          Distribution\n",
      "Alphabet:       ('🐯', '🐲', '🐶', '👹') for all rvs\n",
      "Base:           linear\n",
      "Outcome Class:  str\n",
      "Outcome Length: 1\n",
      "RV Names:       None\n",
      "\n",
      "x   p(x)\n",
      "🐯   0.25\n",
      "🐲   0.25\n",
      "🐶   0.2\n",
      "👹   0.3\n",
      "\n",
      "The probability of getting a 🐶 is: 0.2\n",
      "The probability of getting a 🐶 and 👹 is: 0.5\n"
     ]
    }
   ],
   "source": [
    "# Setup for dit package\n",
    "outcomes = \"🐶 👹 🐯 🐲\".split() # Define discrete Random Variable\n",
    "outcome_probabilities = [0.20, 0.30, 0.25, 0.25] # Created weighted outcomes\n",
    "assert sum(outcome_probabilities) == 1 # Sanity check\n",
    "d = dit.Distribution(outcomes, outcome_probabilities) # Create instance\n",
    "\n",
    "# Let's check it out\n",
    "print(d)\n",
    "print()\n",
    "print(f\"The probability of getting a {outcomes[0]} is: {d[outcomes[0]]}\")\n",
    "print(f\"The probability of getting a {outcomes[0]} and {outcomes[1]} is: {d.event_probability([outcomes[0], outcomes[1]])}\")"
   ]
  },
  {
   "cell_type": "code",
   "execution_count": 4,
   "metadata": {
    "deletable": false,
    "editable": false,
    "nbgrader": {
     "checksum": "8c0784ba0a511a67c63cdec05aad75e3",
     "grade": false,
     "grade_id": "cell-1d3c7e4d8adb191d",
     "locked": true,
     "schema_version": 1,
     "solution": false
    }
   },
   "outputs": [
    {
     "name": "stdout",
     "output_type": "stream",
     "text": [
      "The Shannon entropy of this pmf is: 1.9855\n"
     ]
    }
   ],
   "source": [
    "print(f\"The Shannon entropy of this pmf is: {dit.shannon.entropy(d):.4f}\")"
   ]
  },
  {
   "cell_type": "code",
   "execution_count": null,
   "metadata": {
    "deletable": false,
    "nbgrader": {
     "checksum": "172ed89e659478479770795842f55efa",
     "grade": false,
     "grade_id": "cell-d80194fc50e3b03b",
     "locked": false,
     "schema_version": 1,
     "solution": true
    }
   },
   "outputs": [],
   "source": [
    "from typing import List\n",
    "\n",
    "def shannon_entropy(outcome_probabilities: List[float]) -> float:\n",
    "    \"\"\"Implement Shannon entropy function.\n",
    "    You may use any math or numpy method. \n",
    "    You may NOT use any other package, including `scipy.stats.entropy`\n",
    "    If you use another package, you'll get zero points.\n",
    "    \"\"\" \n",
    "    import math\n",
    "    import numpy as np\n",
    "\n",
    "    # YOUR CODE HERE\n",
    "    raise NotImplementedError()\n",
    "    \n",
    "    return H"
   ]
  },
  {
   "cell_type": "code",
   "execution_count": null,
   "metadata": {
    "deletable": false,
    "editable": false,
    "nbgrader": {
     "checksum": "1e00cc79d3650103a1692504cb72a44a",
     "grade": true,
     "grade_id": "cell-7ff458e86e415763",
     "locked": true,
     "points": 2,
     "schema_version": 1,
     "solution": false
    }
   },
   "outputs": [],
   "source": [
    "\"\"\"\n",
    "2 points\n",
    "Test code for the 'shannon_entropy' function. \n",
    "This cell should NOT give any errors when it is run.\n",
    "\"\"\"\n",
    "from math import isclose\n",
    "\n",
    "outcomes = '🧟 🧙'.split()\n",
    "outcome_probabilities = [0, 1]\n",
    "assert sum(outcome_probabilities) == 1 # Sanity check\n",
    "d = dit.Distribution(outcomes, outcome_probabilities)\n",
    "assert isclose(dit.shannon.entropy(d), shannon_entropy(outcome_probabilities))\n",
    "\n",
    "outcomes = '🧖 🧗'.split()\n",
    "outcome_probabilities = [0.2, 0.8]\n",
    "assert sum(outcome_probabilities) == 1 # Sanity check\n",
    "d = dit.Distribution(outcomes, outcome_probabilities)\n",
    "assert isclose(dit.shannon.entropy(d), shannon_entropy(outcome_probabilities))\n",
    "\n",
    "outcomes = \"🐶 👹 🐯 🐲\".split()\n",
    "outcome_probabilities = [0.35, 0.15, 0.25, 0.25]\n",
    "assert sum(outcome_probabilities) == 1 # Sanity check\n",
    "d = dit.Distribution(outcomes, outcome_probabilities)\n",
    "assert isclose(dit.shannon.entropy(d), shannon_entropy(outcome_probabilities))"
   ]
  },
  {
   "cell_type": "code",
   "execution_count": null,
   "metadata": {
    "deletable": false,
    "nbgrader": {
     "checksum": "0c2b12432466c2c73be8f6dc612c1153",
     "grade": false,
     "grade_id": "cell-4cf71a55c9e1c9ab",
     "locked": false,
     "schema_version": 1,
     "solution": true
    }
   },
   "outputs": [],
   "source": [
    "def decrease_entropy(probabilities_orginal: List[float]) -> List[float]:\n",
    "    \"Manually change the individual entries to decrease the overall entropy.\"\n",
    "    # YOUR CODE HERE\n",
    "    raise NotImplementedError()\n",
    "    return probabilities_updated"
   ]
  },
  {
   "cell_type": "code",
   "execution_count": null,
   "metadata": {
    "deletable": false,
    "editable": false,
    "nbgrader": {
     "checksum": "1d5d56ef66100a30bff4e989dd1e2b54",
     "grade": true,
     "grade_id": "cell-c7ae99e89efedd66",
     "locked": true,
     "points": 1,
     "schema_version": 1,
     "solution": false
    }
   },
   "outputs": [],
   "source": [
    "\"\"\"\n",
    "1 point\n",
    "Test code for the 'decrease_entropy' function. \n",
    "This cell should NOT give any errors when it is run.\n",
    "\"\"\"\n",
    "\n",
    "outcomes = \"🐶 👹 🐯 🐲\".split()\n",
    "probabilities_orginal = [0.35, 0.15, 0.25, 0.25]\n",
    "probabilities_updated = decrease_entropy(probabilities_orginal)\n",
    "assert sum(probabilities_updated) == 1 # Sanity check\n",
    "d = dit.Distribution(outcomes, probabilities_updated)\n",
    "assert dit.shannon.entropy(d) < 1.94"
   ]
  },
  {
   "cell_type": "code",
   "execution_count": null,
   "metadata": {
    "deletable": false,
    "nbgrader": {
     "checksum": "7b4db917768b77be0a44b3c5854a9d13",
     "grade": false,
     "grade_id": "cell-2e243b1ac3126a3c",
     "locked": false,
     "schema_version": 1,
     "solution": true
    }
   },
   "outputs": [],
   "source": [
    "def increase_entropy(probabilities_orginal: List[float]) -> List[float]:\n",
    "    \"Manually change the individual entries to increase the overall entropy.\"\n",
    "    # YOUR CODE HERE\n",
    "    raise NotImplementedError()\n",
    "    return probabilities_updated"
   ]
  },
  {
   "cell_type": "code",
   "execution_count": null,
   "metadata": {
    "deletable": false,
    "editable": false,
    "nbgrader": {
     "checksum": "4178a4a502991c4a7721c6a2439af43b",
     "grade": true,
     "grade_id": "cell-94dafe9da4b23ef2",
     "locked": true,
     "points": 1,
     "schema_version": 1,
     "solution": false
    }
   },
   "outputs": [],
   "source": [
    "\"\"\"\n",
    "1 point\n",
    "Test code for the 'increase_entropy' function. \n",
    "This cell should NOT give any errors when it is run.\n",
    "\"\"\"\n",
    "\n",
    "outcomes = \"🐶 👹 🐯 🐲\".split()\n",
    "probabilities_orginal = [0.35, 0.15, 0.25, 0.25]\n",
    "probabilities_updated = increase_entropy(probabilities_orginal)\n",
    "assert sum(probabilities_updated) == 1 # Sanity check\n",
    "d = dit.Distribution(outcomes, probabilities_updated)\n",
    "assert dit.shannon.entropy(d) > 1.94"
   ]
  },
  {
   "cell_type": "code",
   "execution_count": null,
   "metadata": {
    "deletable": false,
    "nbgrader": {
     "checksum": "bb17089d94bb9407ca6fe9957bae9f9a",
     "grade": false,
     "grade_id": "cell-2bda54533b8398eb",
     "locked": false,
     "schema_version": 1,
     "solution": true
    }
   },
   "outputs": [],
   "source": [
    "def maximum_entropy(probabilities_orginal: List[float]) -> List[float]:\n",
    "    \"Manually change the individual entries to maximize the overall entropy.\"\n",
    "    # YOUR CODE HERE\n",
    "    raise NotImplementedError()\n",
    "    return probabilities_updated"
   ]
  },
  {
   "cell_type": "code",
   "execution_count": null,
   "metadata": {
    "deletable": false,
    "editable": false,
    "nbgrader": {
     "checksum": "ec29743f84eae6936798d223c2d677f4",
     "grade": true,
     "grade_id": "cell-4493bf867196072b",
     "locked": true,
     "points": 1,
     "schema_version": 1,
     "solution": false
    }
   },
   "outputs": [],
   "source": [
    "\"\"\"\n",
    "1 point\n",
    "Test code for the 'maximum_entropy' function. \n",
    "This cell should NOT give any errors when it is run.\n",
    "\"\"\"\n",
    "\n",
    "outcomes = \"🐶 👹 🐯 🐲\".split()\n",
    "probabilities_orginal = [0.35, 0.15, 0.25, 0.25]\n",
    "probabilities_updated = maximum_entropy(probabilities_orginal)\n",
    "assert sum(probabilities_updated) == 1 # Sanity check\n",
    "d = dit.Distribution(outcomes, probabilities_updated)\n",
    "assert dit.shannon.entropy(d) == 2"
   ]
  },
  {
   "cell_type": "code",
   "execution_count": null,
   "metadata": {
    "deletable": false,
    "nbgrader": {
     "checksum": "7b351b65146108912eaeaafca40c8cbc",
     "grade": false,
     "grade_id": "cell-514f4738a324a949",
     "locked": false,
     "schema_version": 1,
     "solution": true
    }
   },
   "outputs": [],
   "source": [
    "def minimum_entropy(probabilities_orginal: List[float]) -> List[float]:\n",
    "    \"Manually change the individual entries to minimumize the overall entropy.\"\n",
    "    # YOUR CODE HERE\n",
    "    raise NotImplementedError()\n",
    "    return probabilities_updated"
   ]
  },
  {
   "cell_type": "code",
   "execution_count": null,
   "metadata": {
    "deletable": false,
    "editable": false,
    "nbgrader": {
     "checksum": "7d026560ab267d70ac22a746c25d8930",
     "grade": true,
     "grade_id": "cell-c66630817b2dc21d",
     "locked": true,
     "points": 1,
     "schema_version": 1,
     "solution": false
    }
   },
   "outputs": [],
   "source": [
    "\"\"\"\n",
    "1 point\n",
    "Test code for the 'minimum_entropy' function. \n",
    "This cell should NOT give any errors when it is run.\n",
    "\"\"\"\n",
    "\n",
    "outcomes = \"🐶 👹 🐯 🐲\".split()\n",
    "probabilities_orginal = [0.35, 0.15, 0.25, 0.25]\n",
    "probabilities_updated = minimum_entropy(probabilities_orginal)\n",
    "assert sum(probabilities_updated) == 1 # Sanity check\n",
    "d = dit.Distribution(outcomes, probabilities_updated)\n",
    "assert dit.shannon.entropy(d) == 0"
   ]
  },
  {
   "cell_type": "markdown",
   "metadata": {
    "deletable": false,
    "editable": false,
    "nbgrader": {
     "checksum": "c2c8c019121c7f7ae619f5ebc26922ac",
     "grade": false,
     "grade_id": "cell-6edc5266e48fb160",
     "locked": true,
     "schema_version": 1,
     "solution": false
    }
   },
   "source": [
    "-----\n",
    "K-L Divergence \n",
    "------\n",
    "\n",
    "We have a Random Variable that models two lunch states:\n",
    "\n",
    "1. Candy, aka 🍬\n",
    "1. Sushi, aka 🍣\n",
    "\n",
    "X ={🍭, 🍣}\n",
    "\n",
    "There are two childern:\n",
    "\n",
    "1. Patel, aka p, \n",
    "1. Quincy, aka q\n",
    "\n",
    "Each child has preference for one state for lunch, p has prefernce r and q has and preference s. We can model those childern as two different Bernoulli distributions over those states:\n",
    "\n",
    "p(🍭) = 1-r  \n",
    "p(🍣) = r\n",
    "\n",
    "q(🍭) = 1-s   \n",
    "q(🍣) = s "
   ]
  },
  {
   "cell_type": "code",
   "execution_count": null,
   "metadata": {
    "deletable": false,
    "nbgrader": {
     "checksum": "82ec7bd2f223db305c7a85d0cd1f57c7",
     "grade": false,
     "grade_id": "cell-8aa40b36fdf2c217",
     "locked": false,
     "schema_version": 1,
     "solution": true
    }
   },
   "outputs": [],
   "source": [
    "def kl_divergence_two_states(r, s)-> float:\n",
    "    \"\"\"Implement K-L Divergence for two states.\n",
    "    You may use any math or numpy method. \n",
    "    You many NOT use any other package, including `scipy.special.kl_div`\n",
    "    If you use another package, you'll get zero points.\n",
    "    \"\"\"\n",
    "    import math\n",
    "    import numpy as np\n",
    "\n",
    "    # YOUR CODE HERE\n",
    "    raise NotImplementedError()\n",
    "    \n",
    "    return kl_div"
   ]
  },
  {
   "cell_type": "code",
   "execution_count": null,
   "metadata": {
    "deletable": false,
    "editable": false,
    "nbgrader": {
     "checksum": "c0016c6ea721fc70df987880f327d18a",
     "grade": true,
     "grade_id": "cell-1dc5a0be61f4b059",
     "locked": true,
     "points": 5,
     "schema_version": 1,
     "solution": false
    }
   },
   "outputs": [],
   "source": [
    "\"\"\"\n",
    "5 points\n",
    "Test code for the 'kl_divergence_two_states' function. \n",
    "This cell should NOT give any errors when it is run.\n",
    "\"\"\"\n",
    "\n",
    "r = 1/2 \n",
    "s = 1/4\n",
    "kl_div = kl_divergence_two_states(r, s)\n",
    "assert f\"{kl_div:.6f}\" == '0.207519'\n",
    "\n",
    "r = 1/4 # NOTE: The parameters are swapped\n",
    "s = 1/2 # NOTE: The parameters are swapped\n",
    "kl_div = kl_divergence_two_states(r, s)\n",
    "assert f\"{kl_div:.6f}\" != '0.207519' # NOTE: Not symmetrical"
   ]
  },
  {
   "cell_type": "markdown",
   "metadata": {
    "deletable": false,
    "editable": false,
    "nbgrader": {
     "checksum": "7ad29ce9d17300308783a1c4d2071f5a",
     "grade": false,
     "grade_id": "cell-10bde8ee3e3aa686",
     "locked": true,
     "schema_version": 1,
     "solution": false
    }
   },
   "source": [
    "Now Patel and Quincy have to decide about dinner which has more options.\n",
    "\n",
    "There is:\n",
    "\n",
    "1. Noodles, aka 🍜\n",
    "2. Steak, aka 🥩\n",
    "3. Crab, aka 🦀"
   ]
  },
  {
   "cell_type": "code",
   "execution_count": null,
   "metadata": {
    "deletable": false,
    "editable": false,
    "nbgrader": {
     "checksum": "6195fd6939036aafd1c8e9e21a715a3a",
     "grade": false,
     "grade_id": "cell-e4ed92c3e7516b62",
     "locked": true,
     "schema_version": 1,
     "solution": false
    }
   },
   "outputs": [],
   "source": [
    "# Store states and probabilities in a dict\n",
    "p = {'🍜':.5,     '🥩':.25,   '🦀':.25}\n",
    "q = {'🍜':.58333, '🥩':.1666, '🦀':.25}\n",
    "\n",
    "# Kids ❤️ noodles"
   ]
  },
  {
   "cell_type": "code",
   "execution_count": null,
   "metadata": {
    "deletable": false,
    "editable": false,
    "nbgrader": {
     "checksum": "6365f2c02137b531836ae87a0e6497d5",
     "grade": false,
     "grade_id": "cell-905aa37dd874c3ca",
     "locked": true,
     "schema_version": 1,
     "solution": false
    }
   },
   "outputs": [],
   "source": [
    "import pandas as pd\n",
    "\n",
    "%matplotlib inline"
   ]
  },
  {
   "cell_type": "code",
   "execution_count": null,
   "metadata": {
    "deletable": false,
    "editable": false,
    "nbgrader": {
     "checksum": "ec5d6c329a9c6f78968ee62e00c38930",
     "grade": false,
     "grade_id": "cell-e708fbdd57776a7a",
     "locked": true,
     "schema_version": 1,
     "solution": false
    }
   },
   "outputs": [],
   "source": [
    "pd.Series(p).plot(kind='bar', title=\"Patel's preferences\");"
   ]
  },
  {
   "cell_type": "code",
   "execution_count": null,
   "metadata": {
    "deletable": false,
    "editable": false,
    "nbgrader": {
     "checksum": "a5057cb80af534f69d98551de72155bf",
     "grade": false,
     "grade_id": "cell-b030d15a0a8bf9f6",
     "locked": true,
     "schema_version": 1,
     "solution": false
    }
   },
   "outputs": [],
   "source": [
    "pd.Series(q).plot(kind='bar', title=\"Quincey's preferences\");"
   ]
  },
  {
   "cell_type": "code",
   "execution_count": null,
   "metadata": {
    "deletable": false,
    "nbgrader": {
     "checksum": "df4dee81fe4720b740573cb2da2988a0",
     "grade": false,
     "grade_id": "cell-ea2c0c82f2cc1b3c",
     "locked": false,
     "schema_version": 1,
     "solution": true
    }
   },
   "outputs": [],
   "source": [
    "def kl_divergence_two_discrete_distrubtions(p, q)-> float:\n",
    "    \"\"\"Implement K-L Divergence for two discrete distributions.\n",
    "    You may use any math or numpy method. \n",
    "    You many NOT use any other package, including `scipy.special.kl_div`\n",
    "    If you use another package, you'll get zero points.\n",
    "    \"\"\"\n",
    "    import math\n",
    "    import numpy as np\n",
    "    \n",
    "    # YOUR CODE HERE\n",
    "    raise NotImplementedError()\n",
    "    \n",
    "    return kl_div"
   ]
  },
  {
   "cell_type": "code",
   "execution_count": null,
   "metadata": {
    "deletable": false,
    "editable": false,
    "nbgrader": {
     "checksum": "4009ee395e8021a72907b32e70ae8318",
     "grade": true,
     "grade_id": "cell-119b629d46e0cebc",
     "locked": true,
     "points": 5,
     "schema_version": 1,
     "solution": false
    }
   },
   "outputs": [],
   "source": [
    "\"\"\"\n",
    "5 points\n",
    "Test code for the 'kl_divergence_two_discrete_distrubtions' function. \n",
    "This cell should NOT give any errors when it is run.\n",
    "\"\"\"\n",
    "\n",
    "kl_div = kl_divergence_two_discrete_distrubtions(p, q)\n",
    "assert f\"{kl_div:.6f}\" == '0.035193'\n",
    "\n",
    "kl_div = kl_divergence_two_discrete_distrubtions(q, p) # NOTE: The parameters are swapped\n",
    "assert f\"{kl_div:.6f}\" != '0.035193' # NOTE: Not symmetrical"
   ]
  },
  {
   "cell_type": "markdown",
   "metadata": {
    "deletable": false,
    "editable": false,
    "nbgrader": {
     "checksum": "09a2aa8aba527974e6dca328efeb0bce",
     "grade": false,
     "grade_id": "cell-ff2d070e25115ec4",
     "locked": true,
     "schema_version": 1,
     "solution": false
    }
   },
   "source": [
    "<br>\n",
    "<br> \n",
    "<br>\n",
    "\n",
    "----"
   ]
  }
 ],
 "metadata": {
  "anaconda-cloud": {},
  "kernelspec": {
   "display_name": "Python 3",
   "language": "python",
   "name": "python3"
  },
  "language_info": {
   "codemirror_mode": {
    "name": "ipython",
    "version": 3
   },
   "file_extension": ".py",
   "mimetype": "text/x-python",
   "name": "python",
   "nbconvert_exporter": "python",
   "pygments_lexer": "ipython3",
   "version": "3.6.6"
  }
 },
 "nbformat": 4,
 "nbformat_minor": 1
}
