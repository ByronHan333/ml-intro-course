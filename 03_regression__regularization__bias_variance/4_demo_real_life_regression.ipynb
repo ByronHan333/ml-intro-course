{
 "cells": [
  {
   "cell_type": "markdown",
   "metadata": {
    "nbgrader": {
     "grade": false,
     "grade_id": "cell-ef8bf3bf34863e1c",
     "locked": true,
     "schema_version": 1,
     "solution": false
    }
   },
   "source": [
    "Demo: Regression on real-life dataset with scikit-learn\n",
    "-----"
   ]
  },
  {
   "cell_type": "markdown",
   "metadata": {
    "nbgrader": {
     "grade": false,
     "grade_id": "cell-015ad0f4cc11d2ab",
     "locked": true,
     "schema_version": 1,
     "solution": false
    }
   },
   "source": [
    "By The End Of This Session You Should Be Able To:\n",
    "----\n",
    "\n",
    "- Fit OLS regression model with scikit-learn\n",
    "- Be able to interpert the model fit statistics and the coefficents\n",
    "- Fit the following regularized regression models with scikit-learn\n",
    "    - Lasso (L1)\n",
    "    - Ridge (L2)\n",
    "    - ElasticNet (L1+L2)\n",
    "- Explain how regularization effects the model fit statistics and the coefficents"
   ]
  },
  {
   "cell_type": "code",
   "execution_count": 26,
   "metadata": {
    "nbgrader": {
     "grade": false,
     "grade_id": "cell-557fa96578acf354",
     "locked": true,
     "schema_version": 1,
     "solution": false
    }
   },
   "outputs": [],
   "source": [
    "reset -fs"
   ]
  },
  {
   "cell_type": "code",
   "execution_count": 27,
   "metadata": {
    "nbgrader": {
     "grade": false,
     "grade_id": "cell-7750320b2be24f39",
     "locked": true,
     "schema_version": 1,
     "solution": false
    }
   },
   "outputs": [],
   "source": [
    "import matplotlib.pyplot as plt\n",
    "import numpy as np\n",
    "import pandas as pd\n",
    "import seaborn as sns\n",
    "import sklearn\n",
    "\n",
    "import warnings\n",
    "warnings.filterwarnings('ignore')\n",
    "\n",
    "%matplotlib inline"
   ]
  },
  {
   "cell_type": "code",
   "execution_count": 28,
   "metadata": {
    "nbgrader": {
     "grade": false,
     "grade_id": "cell-dd8d6087c8fcda10",
     "locked": true,
     "schema_version": 1,
     "solution": false
    }
   },
   "outputs": [],
   "source": [
    "from sklearn.datasets import load_boston\n",
    "\n",
    "boston = load_boston()"
   ]
  },
  {
   "cell_type": "markdown",
   "metadata": {
    "nbgrader": {
     "grade": false,
     "grade_id": "cell-1e0dbbc5d5d6601f",
     "locked": true,
     "schema_version": 1,
     "solution": false
    }
   },
   "source": [
    "Read about [The Boston Housing Dataset](https://www.cs.toronto.edu/~delve/data/boston/bostonDetail.html)"
   ]
  },
  {
   "cell_type": "code",
   "execution_count": 29,
   "metadata": {
    "nbgrader": {
     "grade": false,
     "grade_id": "cell-35005d2a60c8a62b",
     "locked": true,
     "schema_version": 1,
     "solution": false
    }
   },
   "outputs": [
    {
     "name": "stdout",
     "output_type": "stream",
     "text": [
      ".. _boston_dataset:\n",
      "\n",
      "Boston house prices dataset\n",
      "---------------------------\n",
      "\n",
      "**Data Set Characteristics:**  \n",
      "\n",
      "    :Number of Instances: 506 \n",
      "\n",
      "    :Number of Attributes: 13 numeric/categorical predictive. Median Value (attribute 14) is usually the target.\n",
      "\n",
      "    :Attribute Information (in order):\n",
      "        - CRIM     per capita crime rate by town\n",
      "        - ZN       proportion of residential land zoned for lots over 25,000 sq.ft.\n",
      "        - INDUS    proportion of non-retail business acres per town\n",
      "        - CHAS     Charles River dummy variable (= 1 if tract bounds river; 0 otherwise)\n",
      "        - NOX      nitric oxides concentration (parts per 10 million)\n",
      "        - RM       average number of rooms per dwelling\n",
      "        - AGE      proportion of owner-occupied units built prior to 1940\n",
      "        - DIS      weighted distances to five Boston employment centres\n",
      "        - RAD      index of accessibility to radial highways\n",
      "        - TAX      full-value property-tax rate per $10,000\n",
      "        - PTRATIO  pupil-teacher ratio by town\n",
      "        - B        1000(Bk - 0.63)^2 where Bk is the proportion of blacks by town\n",
      "        - LSTAT    % lower status of the population\n",
      "        - MEDV     Median value of owner-occupied homes in $1000's\n",
      "\n",
      "    :Missing Attribute Values: None\n",
      "\n",
      "    :Creator: Harrison, D. and Rubinfeld, D.L.\n",
      "\n",
      "This is a copy of UCI ML housing dataset.\n",
      "https://archive.ics.uci.edu/ml/machine-learning-databases/housing/\n",
      "\n",
      "\n",
      "This dataset was taken from the StatLib library which is maintained at Carnegie Mellon University.\n",
      "\n",
      "The Boston house-price data of Harrison, D. and Rubinfeld, D.L. 'Hedonic\n",
      "prices and the demand for clean air', J. Environ. Economics & Management,\n",
      "vol.5, 81-102, 1978.   Used in Belsley, Kuh & Welsch, 'Regression diagnostics\n",
      "...', Wiley, 1980.   N.B. Various transformations are used in the table on\n",
      "pages 244-261 of the latter.\n",
      "\n",
      "The Boston house-price data has been used in many machine learning papers that address regression\n",
      "problems.   \n",
      "     \n",
      ".. topic:: References\n",
      "\n",
      "   - Belsley, Kuh & Welsch, 'Regression diagnostics: Identifying Influential Data and Sources of Collinearity', Wiley, 1980. 244-261.\n",
      "   - Quinlan,R. (1993). Combining Instance-Based and Model-Based Learning. In Proceedings on the Tenth International Conference of Machine Learning, 236-243, University of Massachusetts, Amherst. Morgan Kaufmann.\n",
      "\n"
     ]
    }
   ],
   "source": [
    "print(boston.DESCR)"
   ]
  },
  {
   "cell_type": "code",
   "execution_count": 30,
   "metadata": {
    "nbgrader": {
     "grade": false,
     "grade_id": "cell-377a4adb3482ddb6",
     "locked": true,
     "schema_version": 1,
     "solution": false
    }
   },
   "outputs": [],
   "source": [
    "from sklearn.model_selection import train_test_split"
   ]
  },
  {
   "cell_type": "code",
   "execution_count": 31,
   "metadata": {
    "nbgrader": {
     "grade": false,
     "grade_id": "cell-677d6198fd7ac527",
     "locked": true,
     "schema_version": 1,
     "solution": false
    }
   },
   "outputs": [],
   "source": [
    "X = boston.data\n",
    "y = boston.target\n",
    "X_train, X_test, y_train, y_test = train_test_split(X, \n",
    "                                                    y, \n",
    "                                                    test_size=0.30,\n",
    "                                                    random_state=42)\n"
   ]
  },
  {
   "cell_type": "markdown",
   "metadata": {
    "nbgrader": {
     "grade": false,
     "grade_id": "cell-570a70343fe84f0d",
     "locked": true,
     "schema_version": 1,
     "solution": false
    }
   },
   "source": [
    "Please take a moment and read the docs about [scikit-learn's GLM](http://scikit-learn.org/stable/modules/linear_model.html)"
   ]
  },
  {
   "cell_type": "code",
   "execution_count": 32,
   "metadata": {
    "nbgrader": {
     "grade": false,
     "grade_id": "cell-21dac12693ab3595",
     "locked": true,
     "schema_version": 1,
     "solution": false
    }
   },
   "outputs": [],
   "source": [
    "from sklearn.linear_model import LinearRegression"
   ]
  },
  {
   "cell_type": "code",
   "execution_count": 33,
   "metadata": {
    "nbgrader": {
     "grade": false,
     "grade_id": "cell-6bbfd2fbe1cddc8a",
     "locked": true,
     "schema_version": 1,
     "solution": false
    }
   },
   "outputs": [],
   "source": [
    "lm = LinearRegression()"
   ]
  },
  {
   "cell_type": "code",
   "execution_count": 34,
   "metadata": {
    "nbgrader": {
     "grade": false,
     "grade_id": "cell-937ab54a21114cf0",
     "locked": true,
     "schema_version": 1,
     "solution": false
    }
   },
   "outputs": [
    {
     "data": {
      "text/plain": [
       "LinearRegression(copy_X=True, fit_intercept=True, n_jobs=None,\n",
       "         normalize=False)"
      ]
     },
     "execution_count": 34,
     "metadata": {},
     "output_type": "execute_result"
    }
   ],
   "source": [
    "lm.fit(X_train, y_train)"
   ]
  },
  {
   "cell_type": "code",
   "execution_count": 35,
   "metadata": {
    "nbgrader": {
     "grade": false,
     "grade_id": "cell-7d494466eba9525f",
     "locked": true,
     "schema_version": 1,
     "solution": false
    }
   },
   "outputs": [],
   "source": [
    "y_predicted = lm.predict(X_test)"
   ]
  },
  {
   "cell_type": "code",
   "execution_count": 36,
   "metadata": {
    "nbgrader": {
     "grade": false,
     "grade_id": "cell-636a40b01aef0246",
     "locked": true,
     "schema_version": 1,
     "solution": false
    }
   },
   "outputs": [
    {
     "data": {
      "image/png": "[encoded data removed]",
      "text/plain": [
       "<Figure size 432x288 with 1 Axes>"
      ]
     },
     "metadata": {
      "needs_background": "light"
     },
     "output_type": "display_data"
    }
   ],
   "source": [
    "ax = sns.regplot(y_test, y_predicted);\n",
    "ax.set_xlabel(\"Prices: $Y_i$\")\n",
    "ax.set_ylabel(\"Predicted prices: $\\hat{Y}_i$\")\n",
    "ax.set_title(\"Prices vs Predicted prices: $Y_i$ vs $\\hat{Y}$\");"
   ]
  },
  {
   "cell_type": "code",
   "execution_count": 37,
   "metadata": {
    "nbgrader": {
     "grade": false,
     "grade_id": "cell-5db1a9d8bbeb2046",
     "locked": true,
     "schema_version": 1,
     "solution": false
    }
   },
   "outputs": [],
   "source": [
    "from sklearn.metrics import mean_squared_error"
   ]
  },
  {
   "cell_type": "code",
   "execution_count": 38,
   "metadata": {
    "nbgrader": {
     "grade": false,
     "grade_id": "cell-ef2a6c548b386a0c",
     "locked": true,
     "schema_version": 1,
     "solution": false
    }
   },
   "outputs": [
    {
     "name": "stdout",
     "output_type": "stream",
     "text": [
      "21.52\n"
     ]
    }
   ],
   "source": [
    "mse = mean_squared_error(y_test, y_predicted)\n",
    "print(f\"{mse:.4}\")"
   ]
  },
  {
   "cell_type": "markdown",
   "metadata": {
    "nbgrader": {
     "grade": false,
     "grade_id": "cell-dcd4c1511cc79aab",
     "locked": true,
     "schema_version": 1,
     "solution": false
    }
   },
   "source": [
    "Let's bundle all those cells into a fuction"
   ]
  },
  {
   "cell_type": "code",
   "execution_count": 39,
   "metadata": {
    "nbgrader": {
     "grade": false,
     "grade_id": "cell-f79c599f0560c766",
     "locked": false,
     "schema_version": 1,
     "solution": true
    }
   },
   "outputs": [],
   "source": [
    "def fit_regression(model, X, y) -> float:\n",
    "    \"Fit a regression model, returning mse. Use code above an example.\"\n",
    "    X_train, X_test, y_train, y_test = train_test_split(X, \n",
    "                                                        y, \n",
    "                                                        test_size=0.30,\n",
    "                                                        random_state=42)\n",
    "\n",
    "    ### BEGIN SOLUTION\n",
    "    reg = model()\n",
    "    reg.fit(X_train, y_train)\n",
    "    y_predicted = reg.predict(X_test)\n",
    "    mse = mean_squared_error(y_test, y_predicted)\n",
    "    return mse\n",
    "    ### END SOLUTION"
   ]
  },
  {
   "cell_type": "code",
   "execution_count": 40,
   "metadata": {
    "nbgrader": {
     "grade": true,
     "grade_id": "cell-4b8fda7ba53a6d05",
     "locked": true,
     "points": 0,
     "schema_version": 1,
     "solution": false
    }
   },
   "outputs": [],
   "source": [
    "\"\"\"\n",
    "1 point\n",
    "Test code for the 'fit_regression' function\n",
    "This cell should NOT give any errors when it is run.\n",
    "\"\"\"\n",
    "\n",
    "mse_ols = fit_regression(model=LinearRegression, X=X, y=y)\n",
    "assert round(mse_ols, 4) == 21.5174"
   ]
  },
  {
   "cell_type": "markdown",
   "metadata": {
    "nbgrader": {
     "grade": false,
     "grade_id": "cell-f5608bb2f8360e5a",
     "locked": true,
     "schema_version": 1,
     "solution": false
    }
   },
   "source": [
    "----\n",
    "\n",
    "Now let's apply our function to the regularized forms of regression"
   ]
  },
  {
   "cell_type": "code",
   "execution_count": 41,
   "metadata": {
    "nbgrader": {
     "grade": false,
     "grade_id": "cell-01a955937b7df9cf",
     "locked": true,
     "schema_version": 1,
     "solution": false
    }
   },
   "outputs": [],
   "source": [
    "from sklearn.linear_model import Lasso"
   ]
  },
  {
   "cell_type": "code",
   "execution_count": 42,
   "metadata": {
    "nbgrader": {
     "grade": false,
     "grade_id": "cell-c8b11d9a0cbaae20",
     "locked": true,
     "schema_version": 1,
     "solution": false
    }
   },
   "outputs": [
    {
     "name": "stdout",
     "output_type": "stream",
     "text": [
      "25.64\n"
     ]
    }
   ],
   "source": [
    "mse_lasso = fit_regression(model=Lasso, X=X, y=y)\n",
    "print(f\"{mse_lasso:.4}\")"
   ]
  },
  {
   "cell_type": "code",
   "execution_count": 43,
   "metadata": {
    "nbgrader": {
     "grade": false,
     "grade_id": "cell-7a9769e430f46ee6",
     "locked": false,
     "schema_version": 1,
     "solution": true
    }
   },
   "outputs": [],
   "source": [
    "from sklearn.linear_model import Ridge"
   ]
  },
  {
   "cell_type": "code",
   "execution_count": 44,
   "metadata": {},
   "outputs": [
    {
     "name": "stdout",
     "output_type": "stream",
     "text": [
      "22.04\n"
     ]
    }
   ],
   "source": [
    "mse_ridge = fit_regression(model=Ridge, X=X, y=y)\n",
    "print(f\"{mse_ridge:.4}\")"
   ]
  },
  {
   "cell_type": "code",
   "execution_count": 45,
   "metadata": {
    "nbgrader": {
     "grade": false,
     "grade_id": "cell-5b2c10a8667e004a",
     "locked": true,
     "schema_version": 1,
     "solution": false
    }
   },
   "outputs": [],
   "source": [
    "from sklearn.linear_model import ElasticNet"
   ]
  },
  {
   "cell_type": "code",
   "execution_count": 51,
   "metadata": {},
   "outputs": [],
   "source": [
    "ElasticNet?"
   ]
  },
  {
   "cell_type": "code",
   "execution_count": 46,
   "metadata": {
    "nbgrader": {
     "grade": false,
     "grade_id": "cell-8c15cde03ae13465",
     "locked": true,
     "schema_version": 1,
     "solution": false
    }
   },
   "outputs": [
    {
     "name": "stdout",
     "output_type": "stream",
     "text": [
      "25.41\n"
     ]
    }
   ],
   "source": [
    "mse_elastic = fit_regression(model=ElasticNet, X=X, y=y)\n",
    "print(f\"{mse_elastic:.4}\")"
   ]
  },
  {
   "cell_type": "code",
   "execution_count": 47,
   "metadata": {
    "nbgrader": {
     "grade": false,
     "grade_id": "cell-c43bffda0fe19753",
     "locked": true,
     "schema_version": 1,
     "solution": false
    }
   },
   "outputs": [
    {
     "name": "stdout",
     "output_type": "stream",
     "text": [
      "ols    : 21.52\n",
      "lasso  : 25.64\n",
      "ridge  : 22.04\n",
      "elastic: 25.41\n"
     ]
    }
   ],
   "source": [
    "mse_all = {'ols'    : mse_ols,\n",
    "           'lasso'  : mse_lasso, \n",
    "           'ridge'  : mse_ridge, \n",
    "           'elastic': mse_elastic}\n",
    "\n",
    "for name, mse, in mse_all.items():\n",
    "    print(f\"{name:<7}: {mse:.4}\")"
   ]
  },
  {
   "cell_type": "markdown",
   "metadata": {
    "nbgrader": {
     "grade": false,
     "grade_id": "cell-ada048a57300e8a0",
     "locked": true,
     "schema_version": 1,
     "solution": false
    }
   },
   "source": [
    "Which models fits the data the best? Why? (ungraded)\n",
    "\n",
    "Which models fits the data the worst? Why? (ungraded)\n"
   ]
  },
  {
   "cell_type": "markdown",
   "metadata": {
    "nbgrader": {
     "grade": false,
     "grade_id": "cell-d03408b0edd09a7e",
     "locked": true,
     "schema_version": 1,
     "solution": false
    }
   },
   "source": [
    "Let's compare coefficients"
   ]
  },
  {
   "cell_type": "code",
   "execution_count": 48,
   "metadata": {
    "nbgrader": {
     "grade": false,
     "grade_id": "cell-9594f0530a6c73ae",
     "locked": true,
     "schema_version": 1,
     "solution": false
    }
   },
   "outputs": [],
   "source": [
    "def reg_equation(coefs, names=None):\n",
    "    \"Create the regression equation with coefficents and names\"\n",
    "    if names is None:\n",
    "        # Assign numbers to betas\n",
    "        names = [f\"X{_}\" for _ in range(len(coefs))]\n",
    "    equation = \" \\t+ \\n\".join(\"{:>6.3f}*{}\".format(c, n.lower())\n",
    "                                   for c, n in zip(coefs, names))\n",
    "    return equation"
   ]
  },
  {
   "cell_type": "code",
   "execution_count": 49,
   "metadata": {
    "nbgrader": {
     "grade": false,
     "grade_id": "cell-c6d248e89fa655a2",
     "locked": true,
     "schema_version": 1,
     "solution": false
    }
   },
   "outputs": [
    {
     "name": "stdout",
     "output_type": "stream",
     "text": [
      "OLS\n",
      "-0.133*crim \t+ \n",
      " 0.036*zn \t+ \n",
      " 0.050*indus \t+ \n",
      " 3.120*chas \t+ \n",
      "-15.417*nox \t+ \n",
      " 4.057*rm \t+ \n",
      "-0.011*age \t+ \n",
      "-1.386*dis \t+ \n",
      " 0.243*rad \t+ \n",
      "-0.009*tax \t+ \n",
      "-0.911*ptratio \t+ \n",
      " 0.012*b \t+ \n",
      "-0.547*lstat\n",
      "\n",
      "Lasso\n",
      "-0.092*crim \t+ \n",
      " 0.035*zn \t+ \n",
      "-0.000*indus \t+ \n",
      " 0.000*chas \t+ \n",
      "-0.000*nox \t+ \n",
      " 1.281*rm \t+ \n",
      " 0.011*age \t+ \n",
      "-0.616*dis \t+ \n",
      " 0.192*rad \t+ \n",
      "-0.010*tax \t+ \n",
      "-0.703*ptratio \t+ \n",
      " 0.011*b \t+ \n",
      "-0.780*lstat\n",
      "\n",
      "Ridge\n",
      "-0.128*crim \t+ \n",
      " 0.037*zn \t+ \n",
      " 0.018*indus \t+ \n",
      " 2.933*chas \t+ \n",
      "-7.848*nox \t+ \n",
      " 4.064*rm \t+ \n",
      "-0.017*age \t+ \n",
      "-1.272*dis \t+ \n",
      " 0.225*rad \t+ \n",
      "-0.009*tax \t+ \n",
      "-0.827*ptratio \t+ \n",
      " 0.012*b \t+ \n",
      "-0.563*lstat\n",
      "\n",
      "ElasticNet\n",
      "-0.110*crim \t+ \n",
      " 0.042*zn \t+ \n",
      "-0.000*indus \t+ \n",
      " 0.000*chas \t+ \n",
      "-0.000*nox \t+ \n",
      " 1.056*rm \t+ \n",
      " 0.012*age \t+ \n",
      "-0.723*dis \t+ \n",
      " 0.245*rad \t+ \n",
      "-0.012*tax \t+ \n",
      "-0.737*ptratio \t+ \n",
      " 0.011*b \t+ \n",
      "-0.794*lstat\n"
     ]
    }
   ],
   "source": [
    "print(\"OLS\")\n",
    "print(reg_equation(lm.coef_, names=boston.feature_names))\n",
    "print()\n",
    "\n",
    "print(\"Lasso\")\n",
    "lasso = Lasso()\n",
    "lasso.fit(X_train, y_train)\n",
    "print(reg_equation(lasso.coef_, names=boston.feature_names))\n",
    "print()\n",
    "\n",
    "print(\"Ridge\")\n",
    "ridge = Ridge()\n",
    "ridge.fit(X_train, y_train)\n",
    "print(reg_equation(ridge.coef_, names=boston.feature_names))\n",
    "print()\n",
    "\n",
    "print(\"ElasticNet\")\n",
    "elasticnet = ElasticNet()\n",
    "elasticnet.fit(X_train, y_train)\n",
    "print(reg_equation(elasticnet.coef_, names=boston.feature_names))"
   ]
  },
  {
   "cell_type": "markdown",
   "metadata": {
    "nbgrader": {
     "grade": false,
     "grade_id": "cell-581ea4ae2b5be10e",
     "locked": true,
     "schema_version": 1,
     "solution": false
    }
   },
   "source": [
    "How do the magnitudes of the coefficients change with the different regularization? Why? (ungraded)"
   ]
  }
 ],
 "metadata": {
  "kernelspec": {
   "display_name": "Python 3",
   "language": "python",
   "name": "python3"
  },
  "language_info": {
   "codemirror_mode": {
    "name": "ipython",
    "version": 3
   },
   "file_extension": ".py",
   "mimetype": "text/x-python",
   "name": "python",
   "nbconvert_exporter": "python",
   "pygments_lexer": "ipython3",
   "version": "3.6.6"
  }
 },
 "nbformat": 4,
 "nbformat_minor": 2
}
