{
 "cells": [
  {
   "cell_type": "markdown",
   "metadata": {
    "slideshow": {
     "slide_type": "slide"
    }
   },
   "source": [
    "Distance Metrics: How to measure stuff with Math\n",
    "-----\n",
    "\n",
    "\n",
    "<center><img src=\"images/naked.jpg\" width=\"75%\"/></center>"
   ]
  },
  {
   "cell_type": "markdown",
   "metadata": {
    "slideshow": {
     "slide_type": "slide"
    }
   },
   "source": [
    "Distance Metrics\n",
    "----\n",
    "\n",
    "Distance is a numerical measurement of how far apart elements are.\n",
    "\n"
   ]
  },
  {
   "cell_type": "markdown",
   "metadata": {
    "slideshow": {
     "slide_type": "fragment"
    }
   },
   "source": [
    "Data Science mostly about counting. But after you count, you can make comparisons."
   ]
  },
  {
   "cell_type": "markdown",
   "metadata": {
    "slideshow": {
     "slide_type": "skip"
    }
   },
   "source": [
    "Source: https://medium.com/@montjoile/l0-norm-l1-norm-l2-norm-l-infinity-norm-7a7d18a4f40c"
   ]
  },
  {
   "cell_type": "markdown",
   "metadata": {
    "slideshow": {
     "slide_type": "slide"
    }
   },
   "source": [
    "By The End Of This Session You Should Be Able To:\n",
    "----\n",
    "\n",
    "- Calculate distance metrics induced by norms\n",
    "- Explain the following distances: 1-norm, 2-norm, and p-norm \n",
    "- Implement each of those distances from scratch in Python"
   ]
  },
  {
   "cell_type": "markdown",
   "metadata": {
    "slideshow": {
     "slide_type": "slide"
    }
   },
   "source": [
    "What is a norm function?"
   ]
  },
  {
   "cell_type": "markdown",
   "metadata": {
    "slideshow": {
     "slide_type": "fragment"
    }
   },
   "source": [
    "A function that takes a vector as an input and returns a scalar value. \n",
    "\n",
    "That scalar can be interpreted as the \"size\", \"length\" or \"magnitude\" of that vector."
   ]
  },
  {
   "cell_type": "markdown",
   "metadata": {
    "slideshow": {
     "slide_type": "slide"
    }
   },
   "source": [
    "What is a distance function?"
   ]
  },
  {
   "cell_type": "markdown",
   "metadata": {
    "slideshow": {
     "slide_type": "fragment"
    }
   },
   "source": [
    "A function that takes in two vectors as an input and returns a scalar value. \n",
    "\n",
    "That scalar can be interpreted as the \"distance\" or \"inverse similarity\" between those vectors."
   ]
  },
  {
   "cell_type": "markdown",
   "metadata": {
    "slideshow": {
     "slide_type": "slide"
    }
   },
   "source": [
    "1-norm distance, aka City Block (Manhattan) distance\n",
    "------\n",
    "\n",
    "<center><img src=\"https://cdn-images-1.medium.com/max/800/0*1kmU2e3eDsPGJjvR.jpg\" width=\"35%\"/></center>\n",
    "\n",
    "What is the 1-norm distance w.r.t to the origin?"
   ]
  },
  {
   "cell_type": "markdown",
   "metadata": {
    "slideshow": {
     "slide_type": "fragment"
    }
   },
   "source": [
    "7 = (0+3) + (0+4)"
   ]
  },
  {
   "cell_type": "markdown",
   "metadata": {
    "slideshow": {
     "slide_type": "slide"
    }
   },
   "source": [
    "1-norm distance, aka City Block (Manhattan) distance\n",
    "------\n",
    "\n",
    "<center><img src=\"https://wikimedia.org/api/rest_v1/media/math/render/svg/9b1c64cf0749473b579dfad01f5add58422a3ddb\" width=\"35%\"/></center>"
   ]
  },
  {
   "cell_type": "markdown",
   "metadata": {
    "slideshow": {
     "slide_type": "fragment"
    }
   },
   "source": [
    "Student Activity: Write 1-norm distance function in pure Python (no numpy)"
   ]
  },
  {
   "cell_type": "markdown",
   "metadata": {
    "slideshow": {
     "slide_type": "fragment"
    }
   },
   "source": [
    "Let's assume the input is two 1-D arrays:\n"
   ]
  },
  {
   "cell_type": "code",
   "execution_count": 53,
   "metadata": {
    "slideshow": {
     "slide_type": "skip"
    }
   },
   "outputs": [],
   "source": [
    "reset -fs"
   ]
  },
  {
   "cell_type": "code",
   "execution_count": 60,
   "metadata": {
    "slideshow": {
     "slide_type": "fragment"
    }
   },
   "outputs": [],
   "source": [
    "q = [0, 0];      p = [3, 4]      #=> 1-norm distance = 7\n",
    "q = [1, -2, -1]; p = [-3, -4, 2] #=> 1-norm distance = 9"
   ]
  },
  {
   "cell_type": "code",
   "execution_count": 61,
   "metadata": {
    "slideshow": {
     "slide_type": "slide"
    }
   },
   "outputs": [],
   "source": [
    "def city_block(p, q):\n",
    "    \"https://en.wikipedia.org/wiki/Taxicab_geometry\"\n",
    "    return sum(abs((px - qx)) for px, qx in zip(p, q))"
   ]
  },
  {
   "cell_type": "code",
   "execution_count": 34,
   "metadata": {
    "slideshow": {
     "slide_type": "skip"
    }
   },
   "outputs": [],
   "source": [
    "# import matplotlib.pyplot as plt\n",
    "# import numpy as np\n",
    "# import pandas as pd\n",
    "# import seaborn as sns\n",
    "# import sklearn\n",
    "\n",
    "# import warnings\n",
    "# warnings.filterwarnings('ignore')\n",
    "\n",
    "# %matplotlib inline"
   ]
  },
  {
   "cell_type": "code",
   "execution_count": 35,
   "metadata": {
    "slideshow": {
     "slide_type": "skip"
    }
   },
   "outputs": [],
   "source": [
    "# # Random points\n",
    "# min_value = 0\n",
    "# max_value = 100\n",
    "# size = 10\n",
    "\n",
    "# p = np.random.random_integers(min_value, max_value, size)\n",
    "# q = np.random.random_integers(min_value, max_value, size)\n",
    "\n",
    "# sns.scatterplot(p, q);\n",
    "# plt.ylim(min_value, max_value);\n",
    "# plt.xlim(min_value, max_value);"
   ]
  },
  {
   "cell_type": "code",
   "execution_count": 62,
   "metadata": {
    "slideshow": {
     "slide_type": "slide"
    }
   },
   "outputs": [
    {
     "data": {
      "text/plain": [
       "[(-3, 1), (-4, -2), (2, -1)]"
      ]
     },
     "execution_count": 62,
     "metadata": {},
     "output_type": "execute_result"
    }
   ],
   "source": [
    "list(zip(p, q))"
   ]
  },
  {
   "cell_type": "markdown",
   "metadata": {
    "slideshow": {
     "slide_type": "slide"
    }
   },
   "source": [
    "What should I do next?\n",
    "------"
   ]
  },
  {
   "cell_type": "markdown",
   "metadata": {
    "slideshow": {
     "slide_type": "fragment"
    }
   },
   "source": [
    "Test it!"
   ]
  },
  {
   "cell_type": "code",
   "execution_count": 63,
   "metadata": {
    "slideshow": {
     "slide_type": "slide"
    }
   },
   "outputs": [],
   "source": [
    "from scipy.spatial.distance import cityblock as city_block_benchmark"
   ]
  },
  {
   "cell_type": "code",
   "execution_count": 64,
   "metadata": {
    "slideshow": {
     "slide_type": "fragment"
    }
   },
   "outputs": [],
   "source": [
    "assert city_block(p, q) == city_block_benchmark(p, q)"
   ]
  },
  {
   "cell_type": "code",
   "execution_count": 39,
   "metadata": {},
   "outputs": [
    {
     "data": {
      "text/plain": [
       "7"
      ]
     },
     "execution_count": 39,
     "metadata": {},
     "output_type": "execute_result"
    }
   ],
   "source": [
    "city_block(p, q)"
   ]
  },
  {
   "cell_type": "markdown",
   "metadata": {
    "slideshow": {
     "slide_type": "slide"
    }
   },
   "source": [
    "2-norm distance, aka Eculidian (as the crow flies)\n",
    "----- \n",
    "\n",
    "<center><img src=\"https://cdn-images-1.medium.com/max/800/0*HTlIui8sHP8pIHBW.jpg\" width=\"55%\"/></center>\n",
    "\n",
    "What is the 2-norm w.r.t. to the origin?"
   ]
  },
  {
   "cell_type": "markdown",
   "metadata": {
    "slideshow": {
     "slide_type": "fragment"
    }
   },
   "source": [
    "5"
   ]
  },
  {
   "cell_type": "markdown",
   "metadata": {
    "slideshow": {
     "slide_type": "slide"
    }
   },
   "source": [
    "<center><img src=\"https://wikimedia.org/api/rest_v1/media/math/render/svg/923484efce295a64585d029f0faa2166ebed1f87\" width=\"35%\"/></center>"
   ]
  },
  {
   "cell_type": "markdown",
   "metadata": {
    "slideshow": {
     "slide_type": "fragment"
    }
   },
   "source": [
    "Student Activity: Write 2-norm distance function in pure Python\n",
    "\n",
    "Bonus: Write the test also"
   ]
  },
  {
   "cell_type": "code",
   "execution_count": 65,
   "metadata": {
    "slideshow": {
     "slide_type": "slide"
    }
   },
   "outputs": [],
   "source": [
    "from math import sqrt\n",
    "\n",
    "def euclidean(p, q):\n",
    "    \"https://en.wikipedia.org/wiki/Taxicab_geometry\"\n",
    "    return sqrt(sum((px - qx) ** 2.0 for px, qx in zip(p, q)))"
   ]
  },
  {
   "cell_type": "markdown",
   "metadata": {
    "slideshow": {
     "slide_type": "skip"
    }
   },
   "source": [
    "[Source](https://www.cut-the-knot.org/pythagoras/DistanceFormula.shtml)"
   ]
  },
  {
   "cell_type": "code",
   "execution_count": 66,
   "metadata": {
    "slideshow": {
     "slide_type": "slide"
    }
   },
   "outputs": [],
   "source": [
    "from scipy.spatial.distance import euclidean as euclidean_bechmark\n",
    "\n",
    "assert euclidean(p, q) == euclidean_bechmark(p, q)"
   ]
  },
  {
   "cell_type": "markdown",
   "metadata": {
    "slideshow": {
     "slide_type": "skip"
    }
   },
   "source": [
    "Source: https://en.wikipedia.org/wiki/Norm_(mathematics)"
   ]
  },
  {
   "cell_type": "markdown",
   "metadata": {
    "slideshow": {
     "slide_type": "slide"
    }
   },
   "source": [
    "p-norm distance, aka Minkowski distance of order p\n",
    "------\n",
    "\n",
    "Generalization notion of normed vector space distance.\n",
    "\n",
    "When p = 1, Manhattan distance  \n",
    "When p = 2, Euclidean distance    "
   ]
  },
  {
   "cell_type": "markdown",
   "metadata": {
    "slideshow": {
     "slide_type": "fragment"
    }
   },
   "source": [
    "p could be any value ([look into what it means to a \"metric\"](https://en.wikipedia.org/wiki/Minkowski_distance))\n",
    "\n",
    "In the limiting case of p reaching infinity, we obtain the Chebyshev distance."
   ]
  },
  {
   "cell_type": "markdown",
   "metadata": {
    "slideshow": {
     "slide_type": "slide"
    }
   },
   "source": [
    "p-norm distance, aka Minkowski distance of order p\n",
    "------\n",
    "\n",
    "<center><img src=\"https://wikimedia.org/api/rest_v1/media/math/render/svg/14b24f10bce2d1ceac1b92bf045a9d5c552d9bb8\" width=\"75%\"/></center>\n",
    "\n",
    "Student Activity: Write p-norm distance function in pure Python"
   ]
  },
  {
   "cell_type": "code",
   "execution_count": 67,
   "metadata": {},
   "outputs": [],
   "source": [
    "from math import pow"
   ]
  },
  {
   "cell_type": "code",
   "execution_count": 69,
   "metadata": {
    "slideshow": {
     "slide_type": "slide"
    }
   },
   "outputs": [],
   "source": [
    "def minkowski(p, q, power):\n",
    "    \"https://en.wikipedia.org/wiki/Minkowski_distance\"\n",
    "    return pow(sum(abs(px - qx) ** power for px, qx in zip(p, q)),  (1 / power))"
   ]
  },
  {
   "cell_type": "code",
   "execution_count": 70,
   "metadata": {
    "slideshow": {
     "slide_type": "slide"
    }
   },
   "outputs": [
    {
     "name": "stdout",
     "output_type": "stream",
     "text": [
      "Power    Mine     Scipy  \n",
      "  1       9.000    9.000\n",
      "  2       5.385    5.385\n",
      "  3       4.626    4.626\n",
      "  4       4.335    4.335\n",
      "  5       4.195    4.195\n",
      "  6       4.120    4.120\n",
      "  7       4.076    4.076\n",
      "  8       4.050    4.050\n",
      "  9       4.033    4.033\n"
     ]
    }
   ],
   "source": [
    "from scipy.spatial.distance import minkowski as minkowski_benchmark\n",
    "\n",
    "print(f\"{'Power'} {'Mine':^10} {'Scipy':^8}\")\n",
    "for power in range(1, 10):\n",
    "    print(f\"{power:^6} {minkowski(p, q, power):>8.3f} {minkowski_benchmark(p, q, power):>8.3f}\")"
   ]
  },
  {
   "cell_type": "markdown",
   "metadata": {
    "slideshow": {
     "slide_type": "slide"
    }
   },
   "source": [
    "Norms (will help with regularization)\n",
    "------\n",
    "\n",
    "<center><img src=\"images/1_2.png\" width=\"35%\"/></center>"
   ]
  },
  {
   "cell_type": "markdown",
   "metadata": {
    "slideshow": {
     "slide_type": "slide"
    }
   },
   "source": [
    "<center><img src=\"images/p.png\" width=\"35%\"/></center>"
   ]
  },
  {
   "cell_type": "markdown",
   "metadata": {
    "slideshow": {
     "slide_type": "fragment"
    }
   },
   "source": [
    "As p increasing notice on how the geometrical shape changes (same thing as the computed table)"
   ]
  },
  {
   "cell_type": "markdown",
   "metadata": {
    "slideshow": {
     "slide_type": "slide"
    }
   },
   "source": [
    "Check for understanding\n",
    "-----\n",
    "\n",
    "<center><img src=\"images/1_2.png\" width=\"25%\"/></center>\n",
    "\n",
    "What happens if we pick 1-norm for k-nn?"
   ]
  },
  {
   "cell_type": "markdown",
   "metadata": {
    "slideshow": {
     "slide_type": "fragment"
    }
   },
   "source": [
    "We pick neighors from concentric diamonds."
   ]
  },
  {
   "cell_type": "markdown",
   "metadata": {
    "slideshow": {
     "slide_type": "slide"
    }
   },
   "source": [
    "Summary\n",
    "-----\n",
    "\n",
    "- Your job as Data Scientist is to measure things usefuly, thus distance metrics are important.\n",
    "- 2-norm distance (Euclidean) is a good default\n",
    "- 1-norm distance (Manhattan) is useful sometimes\n",
    "- Choose p if you dare (Minkowski)\n",
    "- Don't be afraid to take it to ∞ (Chebyshev)"
   ]
  },
  {
   "cell_type": "markdown",
   "metadata": {
    "slideshow": {
     "slide_type": "slide"
    }
   },
   "source": [
    "-----\n",
    "Bonus\n",
    "-----"
   ]
  },
  {
   "cell_type": "markdown",
   "metadata": {},
   "source": [
    "# Chebyshev distance"
   ]
  },
  {
   "cell_type": "code",
   "execution_count": 23,
   "metadata": {},
   "outputs": [],
   "source": [
    "def chebyshev(p, q):\n",
    "    \"https://en.wikipedia.org/wiki/Chebyshev_distance\"\n",
    "    return max(abs(px - py) for px, py in zip(p, q))"
   ]
  },
  {
   "cell_type": "code",
   "execution_count": 24,
   "metadata": {},
   "outputs": [],
   "source": [
    "from scipy.spatial.distance import chebyshev as chebyshev_benchmark"
   ]
  },
  {
   "cell_type": "code",
   "execution_count": 25,
   "metadata": {},
   "outputs": [],
   "source": [
    "assert chebyshev(p, q) == chebyshev_benchmark(p, q)"
   ]
  },
  {
   "cell_type": "markdown",
   "metadata": {},
   "source": []
  }
 ],
 "metadata": {
  "celltoolbar": "Slideshow",
  "kernelspec": {
   "display_name": "Python 3",
   "language": "python",
   "name": "python3"
  },
  "language_info": {
   "codemirror_mode": {
    "name": "ipython",
    "version": 3
   },
   "file_extension": ".py",
   "mimetype": "text/x-python",
   "name": "python",
   "nbconvert_exporter": "python",
   "pygments_lexer": "ipython3",
   "version": "3.6.6"
  }
 },
 "nbformat": 4,
 "nbformat_minor": 2
}
