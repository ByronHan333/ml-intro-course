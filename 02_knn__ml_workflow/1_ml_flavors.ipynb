{
 "cells": [
  {
   "cell_type": "markdown",
   "metadata": {
    "slideshow": {
     "slide_type": "slide"
    }
   },
   "source": [
    "Machine Learning Flavors\n",
    "------\n",
    "\n",
    "<center><img src=\"https://media.kasperskycontenthub.com/wp-content/uploads/sites/43/2016/10/07183911/malanov_5myths_01.gif\" width=\"100%\"/></center>"
   ]
  },
  {
   "cell_type": "markdown",
   "metadata": {
    "slideshow": {
     "slide_type": "skip"
    }
   },
   "source": [
    "[Cartoon Source](http://dilbert.com/strip/2013-02-02)\n",
    "\n",
    "[Content Source](https://www.oreilly.com/ideas/machine-learning-a-quick-and-simple-definition )"
   ]
  },
  {
   "cell_type": "markdown",
   "metadata": {
    "slideshow": {
     "slide_type": "slide"
    }
   },
   "source": [
    "By The End Of This Session You Should Be Able To:\n",
    "----\n",
    "\n",
    "- Create a hierarchy for the different types of Machine Learning\n",
    "- For each of those ML types, identify specific examples"
   ]
  },
  {
   "cell_type": "markdown",
   "metadata": {
    "slideshow": {
     "slide_type": "skip"
    }
   },
   "source": [
    "What is the goal of Machine Learning (ML)?\n",
    "-------"
   ]
  },
  {
   "cell_type": "markdown",
   "metadata": {
    "slideshow": {
     "slide_type": "skip"
    }
   },
   "source": [
    "\n",
    "Learn a function from data that can generalize to predict new data. "
   ]
  },
  {
   "cell_type": "markdown",
   "metadata": {
    "slideshow": {
     "slide_type": "skip"
    }
   },
   "source": [
    "Another definition of ML\n",
    "-----\n",
    "\n",
    "> “A computer program is said to learn from experience (E) with respect to some class of tasks (T) and performance measure (P), if its performance at tasks in T, as measured by P, improves with experience E.”\n",
    "\n",
    "— Tom Mitchell"
   ]
  },
  {
   "cell_type": "markdown",
   "metadata": {
    "slideshow": {
     "slide_type": "skip"
    }
   },
   "source": [
    "Source: Mitchell 1997"
   ]
  },
  {
   "cell_type": "markdown",
   "metadata": {
    "slideshow": {
     "slide_type": "slide"
    }
   },
   "source": [
    "What are the high-level types of ML?\n",
    "------"
   ]
  },
  {
   "cell_type": "markdown",
   "metadata": {
    "format": "row",
    "slideshow": {
     "slide_type": "slide"
    }
   },
   "source": [
    "ML Types\n",
    "------ \n",
    "\n",
    "- Supervised Learning \n",
    "- Unsupervised Learning"
   ]
  },
  {
   "cell_type": "markdown",
   "metadata": {
    "slideshow": {
     "slide_type": "slide"
    }
   },
   "source": [
    "What is the difference between Supervised and Unsupervised Learning?\n",
    "-----"
   ]
  },
  {
   "cell_type": "markdown",
   "metadata": {
    "slideshow": {
     "slide_type": "fragment"
    }
   },
   "source": [
    "<center><h2>Labels</h2></center>"
   ]
  },
  {
   "cell_type": "markdown",
   "metadata": {
    "slideshow": {
     "slide_type": "slide"
    }
   },
   "source": [
    "<center><img src=\"https://leonardoaraujosantos.gitbooks.io/artificial-inteligence/content/Images/supervised_unsupervised.png\" width=\"100%\"/></center>"
   ]
  },
  {
   "cell_type": "markdown",
   "metadata": {
    "slideshow": {
     "slide_type": "slide"
    }
   },
   "source": [
    "Definition  of Supervised Learning \n",
    "-----\n",
    "\n",
    "Learns a mapping from data to labels"
   ]
  },
  {
   "cell_type": "markdown",
   "metadata": {
    "slideshow": {
     "slide_type": "slide"
    }
   },
   "source": [
    "What the primary 2 types of Supervised Learning?\n",
    "-----"
   ]
  },
  {
   "cell_type": "markdown",
   "metadata": {
    "slideshow": {
     "slide_type": "fragment"
    }
   },
   "source": [
    "<center><img src=\"images/classy.png\" width=\"90%\"/></center>"
   ]
  },
  {
   "cell_type": "markdown",
   "metadata": {
    "slideshow": {
     "slide_type": "skip"
    }
   },
   "source": [
    "https://www.slideserve.com/betha/machine-learning-intro-icamp-2012"
   ]
  },
  {
   "cell_type": "markdown",
   "metadata": {
    "slideshow": {
     "slide_type": "slide"
    }
   },
   "source": [
    "Regression\n",
    "-----\n",
    "\n",
    "<center><img src=\"https://upload.wikimedia.org/wikipedia/commons/thumb/3/3a/Linear_regression.svg/1200px-Linear_regression.svg.png\" width=\"650\"/></center>\n",
    "\n",
    "Learn to predict continuous / float numbers\n",
    "\n",
    "Simpliest form is a straight line"
   ]
  },
  {
   "cell_type": "markdown",
   "metadata": {
    "slideshow": {
     "slide_type": "slide"
    }
   },
   "source": [
    "What are examples of applied Regression in Data Science?\n",
    "------"
   ]
  },
  {
   "cell_type": "markdown",
   "metadata": {
    "slideshow": {
     "slide_type": "fragment"
    }
   },
   "source": [
    "- Predict revenue\n",
    "- Predict growth rate (hopefully your company is growing)\n",
    "- Predict rate of hardware breakdowns (data centers, manufacturing, transport)"
   ]
  },
  {
   "cell_type": "markdown",
   "metadata": {
    "slideshow": {
     "slide_type": "slide"
    }
   },
   "source": [
    "Regression Algorithms\n",
    "------\n",
    "\n",
    "- General Linear Model (GLM)"
   ]
  },
  {
   "cell_type": "markdown",
   "metadata": {
    "slideshow": {
     "slide_type": "fragment"
    }
   },
   "source": [
    "- Regression \\_\\_\\_\\_\\_\\_\\_\\_\\_\\_\\_ {Decision Trees, Support Vector Machines, …}"
   ]
  },
  {
   "cell_type": "markdown",
   "metadata": {
    "slideshow": {
     "slide_type": "slide"
    }
   },
   "source": [
    "Classification\n",
    "-----\n",
    "\n",
    "<center><img src=\"https://astrobites.org/wp-content/uploads/2015/04/image22.jpg\" width=\"700\"/></center>\n",
    "\n",
    "Learn to predict discrete categories"
   ]
  },
  {
   "cell_type": "markdown",
   "metadata": {
    "slideshow": {
     "slide_type": "slide"
    }
   },
   "source": [
    "What are examples of applied Classification?\n",
    "------"
   ]
  },
  {
   "cell_type": "markdown",
   "metadata": {
    "slideshow": {
     "slide_type": "fragment"
    }
   },
   "source": [
    "- Classify emails as spam \n",
    "- Hotdog / Not hotdog in images\n",
    "- Object identification\n",
    "- Identify specific people in images"
   ]
  },
  {
   "cell_type": "markdown",
   "metadata": {
    "slideshow": {
     "slide_type": "slide"
    }
   },
   "source": [
    "Classification Algorithms\n",
    "-----\n",
    "\n",
    "- k-NN\n",
    "- Naive Bayes\n",
    "- Decision Trees\n",
    "- Support Vector Machines (SVM)"
   ]
  },
  {
   "cell_type": "markdown",
   "metadata": {
    "slideshow": {
     "slide_type": "fragment"
    }
   },
   "source": [
    "- Logistic Regression"
   ]
  },
  {
   "cell_type": "markdown",
   "metadata": {
    "slideshow": {
     "slide_type": "skip"
    }
   },
   "source": [
    "Source: https://leonardoaraujosantos.gitbooks.io/artificial-inteligence/content/machine_learning.html"
   ]
  },
  {
   "cell_type": "markdown",
   "metadata": {
    "slideshow": {
     "slide_type": "slide"
    }
   },
   "source": [
    "Definition of Unsupervised Learning\n",
    "-----\n",
    "\n",
    "Learns to identify commonalities in the data \n",
    "\n",
    "Learn the hidden (latent) structure of data "
   ]
  },
  {
   "cell_type": "markdown",
   "metadata": {
    "slideshow": {
     "slide_type": "fragment"
    }
   },
   "source": [
    "Uses unlabeled data; Unlabeled data is the majority of data in the world"
   ]
  },
  {
   "cell_type": "markdown",
   "metadata": {
    "slideshow": {
     "slide_type": "slide"
    }
   },
   "source": [
    "What are examples of Unsupervised Learning algorithms?\n",
    "------"
   ]
  },
  {
   "cell_type": "markdown",
   "metadata": {
    "slideshow": {
     "slide_type": "fragment"
    }
   },
   "source": [
    "- Clustering (k-means or Latent Dirichlet allocation (LDA))\n",
    "- Dimension Reduction (PCA)\n",
    "- Density estimation (kernel density estimation)\n",
    "- Matrix Completion (Collaborative Filtering)\n",
    "- Anomaly Detection (One Class SVM)\n",
    "- Factor analysis (Exploratory Factor Analysis)"
   ]
  },
  {
   "cell_type": "markdown",
   "metadata": {
    "slideshow": {
     "slide_type": "skip"
    }
   },
   "source": [
    "Anomaly detection\n",
    "-----\n",
    "<center><img src=\"https://cdn-images-1.medium.com/max/1600/0*ObqneGx8Dcla8biC.\" width=\"700\"/></center>\n",
    "\n",
    "The flipside of detecting similarities is detecting anomalies, or unusual behavior. In many cases, unusual behavior correlates highly with things you want to detect and prevent, such as fraud."
   ]
  },
  {
   "cell_type": "markdown",
   "metadata": {
    "slideshow": {
     "slide_type": "skip"
    }
   },
   "source": [
    "Search: Comparing documents, images or sounds to surface similar items."
   ]
  },
  {
   "cell_type": "markdown",
   "metadata": {
    "slideshow": {
     "slide_type": "skip"
    }
   },
   "source": [
    "https://blog.statsbot.co/time-series-anomaly-detection-algorithms-1cef5519aef2"
   ]
  },
  {
   "cell_type": "markdown",
   "metadata": {
    "slideshow": {
     "slide_type": "slide"
    }
   },
   "source": [
    "<center><img src=\"images/ml_algorithms.png\" width=\"90%\"/></center>"
   ]
  },
  {
   "cell_type": "markdown",
   "metadata": {
    "slideshow": {
     "slide_type": "slide"
    }
   },
   "source": [
    "Check for understanding\n",
    "-----\n",
    "\n",
    "Can you perform Unsupervised Learning techniques on labeled data?"
   ]
  },
  {
   "cell_type": "markdown",
   "metadata": {
    "slideshow": {
     "slide_type": "fragment"
    }
   },
   "source": [
    "Of course! You can ignore your labels. \n",
    "\n",
    "You can discard labels during unsupervised training then evaluate model performance with labels after."
   ]
  },
  {
   "cell_type": "markdown",
   "metadata": {
    "slideshow": {
     "slide_type": "slide"
    }
   },
   "source": [
    "Think about your ML problem as a flowchart\n",
    "--------\n",
    "\n",
    "[Flowchart A](https://github.com/brianspiering/ml-intro-course/blob/master/resources/ml%20flowchart_2.pdf)\n",
    "\n",
    "[Flowchart B](https://raw.githubusercontent.com/brianspiering/ml-intro-course/master/resources/ml_flowchart_1.png)"
   ]
  },
  {
   "cell_type": "markdown",
   "metadata": {
    "slideshow": {
     "slide_type": "slide"
    }
   },
   "source": [
    "Caveat: scikit-learn cheat-sheet is not useful\n",
    "-------\n",
    "    \n",
    "<center><img src=\"images/scikit-learn.png\" width=\"75%\"/></center>"
   ]
  },
  {
   "cell_type": "markdown",
   "metadata": {
    "slideshow": {
     "slide_type": "slide"
    }
   },
   "source": [
    "Further Study\n",
    "------\n",
    "\n",
    "- Semi-supervised Learning\n",
    "- Self-supervised Learning\n",
    "- Reinforcement Learning"
   ]
  },
  {
   "cell_type": "markdown",
   "metadata": {
    "slideshow": {
     "slide_type": "slide"
    }
   },
   "source": [
    "Summary, Part I\n",
    "------\n",
    "\n",
    "- In ML, a computer learns from data/experience to improve performance on a task\n",
    "- 2 primary categories: Supervised & Unsupervised\n",
    "- Supervised Learning requires labeled data\n",
    "- Even though labeled data is rare, Supervised Learning is the most popular and useful type of ML"
   ]
  },
  {
   "cell_type": "markdown",
   "metadata": {
    "slideshow": {
     "slide_type": "slide"
    }
   },
   "source": [
    "Summary, Part II\n",
    "------\n",
    "\n",
    "- Supervised Learning has two subcategories: Regression & Classification\n",
    "- Regression predicts real-valued targets\n",
    "- Classification predicts discrete categories\n",
    "- Most ML algorithms can adopted for both Regression & Classification\n",
    "    - Regression: Linear vs Logistic\n",
    "    - Decision Trees"
   ]
  },
  {
   "cell_type": "markdown",
   "metadata": {
    "slideshow": {
     "slide_type": "slide"
    }
   },
   "source": [
    "<br>"
   ]
  }
 ],
 "metadata": {
  "celltoolbar": "Slideshow",
  "kernelspec": {
   "display_name": "Python 3",
   "language": "python",
   "name": "python3"
  },
  "language_info": {
   "codemirror_mode": {
    "name": "ipython",
    "version": 3
   },
   "file_extension": ".py",
   "mimetype": "text/x-python",
   "name": "python",
   "nbconvert_exporter": "python",
   "pygments_lexer": "ipython3",
   "version": "3.6.6"
  }
 },
 "nbformat": 4,
 "nbformat_minor": 2
}
