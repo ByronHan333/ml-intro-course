{
 "cells": [
  {
   "cell_type": "markdown",
   "metadata": {
    "slideshow": {
     "slide_type": "slide"
    }
   },
   "source": [
    "<center><h2>k-Nearest Neighbors Algorithm (k-NN)</h2></center>\n",
    "\n",
    "<center><img src=\"http://res.cloudinary.com/dyd911kmh/image/upload/f_auto,q_auto:best/v1531424125/KNN_final_a1mrv9.png\" width=\"60%\"/></center>"
   ]
  },
  {
   "cell_type": "markdown",
   "metadata": {
    "slideshow": {
     "slide_type": "slide"
    }
   },
   "source": [
    "By The End Of This Session You Should Be Able To:\n",
    "----\n",
    "\n",
    "- List the steps for the k-nearest neighbors(k-NN)algorithm \n",
    "- Explain the differences between parametric and non-parametric models\n",
    "- List the strengths and weaknesses of k-NN\n",
    "- Fit k-NN to a dataset"
   ]
  },
  {
   "cell_type": "markdown",
   "metadata": {
    "slideshow": {
     "slide_type": "slide"
    }
   },
   "source": [
    "<center><h2>Dog 🐶 or Bear🐻?</h2></center>\n",
    "\n",
    "<center><img src=\"https://cdn0.wideopenpets.com/wp-content/uploads/2017/02/Untitled-design-1-7-770x405.png\" width=\"100%\"/></center>"
   ]
  },
  {
   "cell_type": "markdown",
   "metadata": {
    "slideshow": {
     "slide_type": "slide"
    }
   },
   "source": [
    "How does k-NN work?\n",
    "------"
   ]
  },
  {
   "cell_type": "markdown",
   "metadata": {
    "slideshow": {
     "slide_type": "fragment"
    }
   },
   "source": [
    "<center><img src=\"http://res.cloudinary.com/dyd911kmh/image/upload/f_auto,q_auto:best/v1531424125/KNN_final1_ibdm8a.png\" width=\"50%\"/></center>"
   ]
  },
  {
   "cell_type": "markdown",
   "metadata": {
    "slideshow": {
     "slide_type": "skip"
    }
   },
   "source": [
    "<center><img src=\"images/knn_model.png\" width=\"75%\"/></center>"
   ]
  },
  {
   "cell_type": "markdown",
   "metadata": {
    "slideshow": {
     "slide_type": "slide"
    }
   },
   "source": [
    "k-NN Steps\n",
    "-----\n",
    "\n",
    "1. Have labeled data\n",
    "1. Pick k \n",
    "1. Get new sample to classify\n",
    "1. Select the k entries that are closest to the new sample\n",
    "1. Take a simple majority vote to pick category for new sample"
   ]
  },
  {
   "cell_type": "markdown",
   "metadata": {
    "slideshow": {
     "slide_type": "skip"
    }
   },
   "source": [
    "Source: https://medium.com/@adi.bronshtein/a-quick-introduction-to-k-nearest-neighbors-algorithm-62214cea29c7"
   ]
  },
  {
   "cell_type": "markdown",
   "metadata": {
    "slideshow": {
     "slide_type": "slide"
    }
   },
   "source": [
    "What type of model is k-nearest neighbors algorithm (k-NN)?\n",
    "------\n",
    "\n",
    "A supervised, classification, nonparametric, instance-based model"
   ]
  },
  {
   "cell_type": "markdown",
   "metadata": {
    "slideshow": {
     "slide_type": "slide"
    }
   },
   "source": [
    "Supervised\n",
    "----\n",
    "\n",
    "You have to have labeled data. Each points belong to a group.\n",
    "\n",
    "Your new point will be classfied into other existing groups."
   ]
  },
  {
   "cell_type": "markdown",
   "metadata": {
    "slideshow": {
     "slide_type": "slide"
    }
   },
   "source": [
    "Parametric vs Nonparametric Models\n",
    "-----\n",
    "\n",
    "Parametric: Make an assumption about form of the function of the data\n",
    "\n",
    "Nonparametric: Do __not__ make an assumption about the functional form."
   ]
  },
  {
   "cell_type": "markdown",
   "metadata": {
    "slideshow": {
     "slide_type": "slide"
    }
   },
   "source": [
    "Check for understanding\n",
    "-------\n",
    "\n",
    "Is Linear Regression a parametric or nonparametric model?"
   ]
  },
  {
   "cell_type": "markdown",
   "metadata": {
    "slideshow": {
     "slide_type": "slide"
    }
   },
   "source": [
    "Linear Regression is parametric\n",
    "------\n",
    "\n",
    "<center><img src=\"images/ols.png\" width=\"60%\"/></center>"
   ]
  },
  {
   "cell_type": "markdown",
   "metadata": {
    "slideshow": {
     "slide_type": "slide"
    }
   },
   "source": [
    "What are the advantages of parametric models?\n",
    "-----"
   ]
  },
  {
   "cell_type": "markdown",
   "metadata": {
    "slideshow": {
     "slide_type": "fragment"
    }
   },
   "source": [
    "1. Simpler\n",
    "1. Need less data\n",
    "1. Faster\n",
    "1. More Interpretable\n",
    "1. More frequently used"
   ]
  },
  {
   "cell_type": "markdown",
   "metadata": {
    "slideshow": {
     "slide_type": "slide"
    }
   },
   "source": [
    "What are the disadvantages of a parametric models?\n",
    "-----\n",
    "\n",
    "1. Inflexible / Constrained\n",
    "1. Guess a non-useful (aka, wrong) form for the data"
   ]
  },
  {
   "cell_type": "markdown",
   "metadata": {
    "slideshow": {
     "slide_type": "slide"
    }
   },
   "source": [
    "<center><img src=\"https://www.azquotes.com/picture-quotes/quote-all-models-are-wrong-but-some-are-useful-george-e-p-box-53-42-27.jpg\" width=\"100%\"/></center>"
   ]
  },
  {
   "cell_type": "markdown",
   "metadata": {
    "slideshow": {
     "slide_type": "slide"
    }
   },
   "source": [
    "Nonparametric models\n",
    "-----\n",
    "\n",
    "Do __not__ make any assumptions on the underlying data distribution. \n",
    " \n",
    "Model structure is determined from the data. "
   ]
  },
  {
   "cell_type": "markdown",
   "metadata": {
    "slideshow": {
     "slide_type": "slide"
    }
   },
   "source": [
    "Parametric fit to the data\n",
    "-----\n",
    "\n",
    "<center><img src=\"images/ols.png\" width=\"60%\"/></center>"
   ]
  },
  {
   "cell_type": "markdown",
   "metadata": {
    "slideshow": {
     "slide_type": "slide"
    }
   },
   "source": [
    "Nonparametric fit to the data\n",
    "-----\n",
    "\n",
    "<center><img src=\"images/kernel.png\" width=\"60%\"/></center>"
   ]
  },
  {
   "cell_type": "markdown",
   "metadata": {
    "slideshow": {
     "slide_type": "slide"
    }
   },
   "source": [
    "What are the advantages of a nonparametric models?\n",
    "-----\n",
    "\n",
    "1) Let's use more of the data.   \n",
    "It is Big Data world nowadays.   \n",
    "Regression is a lossy data compression algorithm (tell Jeff that!)"
   ]
  },
  {
   "cell_type": "markdown",
   "metadata": {
    "slideshow": {
     "slide_type": "fragment"
    }
   },
   "source": [
    "2) Weaker assumptions. When you assume, you make …  \n",
    "Most of the real world datasets do not follow mathematical theoretical assumptions."
   ]
  },
  {
   "cell_type": "markdown",
   "metadata": {
    "slideshow": {
     "slide_type": "fragment"
    }
   },
   "source": [
    "3) The number of parameters do __not__ grow with the number of dimensions / features.\n",
    "Logistic regression for ad serving or NLP can have millions of parameters."
   ]
  },
  {
   "cell_type": "markdown",
   "metadata": {
    "slideshow": {
     "slide_type": "slide"
    }
   },
   "source": [
    "k-NN is nonparametric\n",
    "------\n",
    "\n",
    "k-NN assumes no prior knowledge about the distribution data."
   ]
  },
  {
   "cell_type": "markdown",
   "metadata": {
    "slideshow": {
     "slide_type": "fragment"
    }
   },
   "source": [
    "k-NN has no assumptions to violate!"
   ]
  },
  {
   "cell_type": "markdown",
   "metadata": {
    "slideshow": {
     "slide_type": "slide"
    }
   },
   "source": [
    "K-NN is Instance-based\n",
    "---------\n",
    "\n",
    "<center><img src=\"https://1.bp.blogspot.com/-KfZqdgwJAHg/WjhfBziLKCI/AAAAAAAAGiU/9gUJHU8ztoMjMXQaAvdtkR-OZdzRrNKfgCLcBGAs/s1600/knn+chart.PNG\" width=\"60%\"/></center>\n",
    "\n",
    "Uses only the actual observed data to classify. There is no model!"
   ]
  },
  {
   "cell_type": "markdown",
   "metadata": {
    "slideshow": {
     "slide_type": "slide"
    }
   },
   "source": [
    "Technical sidebar - k-NN is the poster kid for nonparametric\n",
    "------\n",
    "\n",
    "k-NN has no model thus no training phase.\n",
    "\n",
    "There are no parameters that depend on the data."
   ]
  },
  {
   "cell_type": "markdown",
   "metadata": {
    "slideshow": {
     "slide_type": "slide"
    }
   },
   "source": [
    "Check for understanding\n",
    "-----\n",
    "\n",
    "What the 2 parameters for k-NN?"
   ]
  },
  {
   "cell_type": "markdown",
   "metadata": {
    "slideshow": {
     "slide_type": "fragment"
    }
   },
   "source": [
    "1. k (the number of neighbors that will vote)\n",
    "1. Distance metric\n",
    "\n",
    "Those are independent of the data, the number of features and the distribution of the data."
   ]
  },
  {
   "cell_type": "markdown",
   "metadata": {
    "slideshow": {
     "slide_type": "slide"
    }
   },
   "source": [
    "Pros of k-NN\n",
    "-----\n",
    "\n",
    "- Simple - easy to apply and interpret\n",
    "- No assumptions about distribution of data  - useful for ill-tempered data\n",
    "- No training\n",
    "- Relatively high accuracy"
   ]
  },
  {
   "cell_type": "markdown",
   "metadata": {
    "slideshow": {
     "slide_type": "slide"
    }
   },
   "source": [
    "What are the cons of k-NN?\n",
    "-----"
   ]
  },
  {
   "cell_type": "markdown",
   "metadata": {
    "slideshow": {
     "slide_type": "fragment"
    }
   },
   "source": [
    "- High memory requirement - stores all of the data\n",
    "- Computationally expensive  - must compute all distances\n",
    "- Sensitive to irrelevant features and the feature scaling"
   ]
  },
  {
   "cell_type": "markdown",
   "metadata": {
    "slideshow": {
     "slide_type": "slide"
    }
   },
   "source": [
    "Check for understanding\n",
    "-----\n",
    "\n",
    "Can we choose k to be a negative value?"
   ]
  },
  {
   "cell_type": "markdown",
   "metadata": {
    "slideshow": {
     "slide_type": "fragment"
    }
   },
   "source": [
    "Nope - k has be positive"
   ]
  },
  {
   "cell_type": "markdown",
   "metadata": {
    "slideshow": {
     "slide_type": "fragment"
    }
   },
   "source": [
    "Can k be a float?"
   ]
  },
  {
   "cell_type": "markdown",
   "metadata": {
    "slideshow": {
     "slide_type": "fragment"
    }
   },
   "source": [
    "Nope - k has to be an integer"
   ]
  },
  {
   "cell_type": "markdown",
   "metadata": {
    "slideshow": {
     "slide_type": "slide"
    }
   },
   "source": [
    "Check for understanding\n",
    "-----\n",
    "\n",
    "What happens when k = 1?"
   ]
  },
  {
   "cell_type": "markdown",
   "metadata": {
    "slideshow": {
     "slide_type": "fragment"
    }
   },
   "source": [
    "The single nearest neighbor decides category membership\n",
    "\n"
   ]
  },
  {
   "cell_type": "markdown",
   "metadata": {
    "slideshow": {
     "slide_type": "skip"
    }
   },
   "source": [
    "Inductive bias\n",
    "------\n",
    "\n",
    "[Inductive bias](https://en.wikipedia.org/wiki/Inductive_bias) - The set of assumptions that the learner uses to predict outputs given inputs that it has not encountered."
   ]
  },
  {
   "cell_type": "markdown",
   "metadata": {
    "slideshow": {
     "slide_type": "slide"
    }
   },
   "source": [
    "k-NN: Interpolation vs Extrapolation\n",
    "-----\n",
    "<center><img src=\"https://1.bp.blogspot.com/-KfZqdgwJAHg/WjhfBziLKCI/AAAAAAAAGiU/9gUJHU8ztoMjMXQaAvdtkR-OZdzRrNKfgCLcBGAs/s1600/knn+chart.PNG\" width=\"65%\"/></center>"
   ]
  },
  {
   "cell_type": "markdown",
   "metadata": {
    "slideshow": {
     "slide_type": "slide"
    }
   },
   "source": [
    "Check for understanding\n",
    "-----\n",
    "\n",
    "What happens when k = n?"
   ]
  },
  {
   "cell_type": "markdown",
   "metadata": {
    "slideshow": {
     "slide_type": "fragment"
    }
   },
   "source": [
    "The majority class is always chosen.\n",
    "\n",
    "It takes a looooong time to make a decision."
   ]
  },
  {
   "cell_type": "markdown",
   "metadata": {
    "slideshow": {
     "slide_type": "slide"
    }
   },
   "source": [
    "What is optimal value for k?\n",
    "-----"
   ]
  },
  {
   "cell_type": "markdown",
   "metadata": {
    "slideshow": {
     "slide_type": "fragment"
    }
   },
   "source": [
    "There is theoretical no optimal number of neighbors for any given task.\n",
    "\n",
    "If number classes is even, pick k to be odd to prevent ties.\n",
    "If number classes is odd, pick k to be even to lessen the chances of ties.\n",
    "\n",
    "Then empirically decide specific value for k."
   ]
  },
  {
   "cell_type": "markdown",
   "metadata": {
    "slideshow": {
     "slide_type": "slide"
    }
   },
   "source": [
    "What are useful applications for k-NN?\n",
    "------\n"
   ]
  },
  {
   "cell_type": "markdown",
   "metadata": {
    "slideshow": {
     "slide_type": "fragment"
    }
   },
   "source": [
    "- Should the bank give a loan to an individual? Would an individual default on his or her loan? Is that person closer in characteristics to people who defaulted or did not default on their loans?"
   ]
  },
  {
   "cell_type": "markdown",
   "metadata": {
    "slideshow": {
     "slide_type": "fragment"
    }
   },
   "source": [
    "- Will someone vote Democrat or Republican?"
   ]
  },
  {
   "cell_type": "markdown",
   "metadata": {
    "slideshow": {
     "slide_type": "slide"
    }
   },
   "source": [
    "Further Study\n",
    "------\n",
    "\n",
    "- [k-NN Regression](https://stats.stackexchange.com/questions/104255/why-would-anyone-use-knn-for-regression): Predicted value is the average (or median) of the values of its k-NN\n"
   ]
  },
  {
   "cell_type": "markdown",
   "metadata": {
    "slideshow": {
     "slide_type": "fragment"
    }
   },
   "source": [
    " - Instead of using the raw data, use semantically scaled space (e.g., word2vec)"
   ]
  },
  {
   "cell_type": "markdown",
   "metadata": {
    "slideshow": {
     "slide_type": "fragment"
    }
   },
   "source": [
    "- Use [locality-sensitive hashing](https://towardsdatascience.com/understanding-locality-sensitive-hashing-49f6d1f6134) to define regions for clustering"
   ]
  },
  {
   "cell_type": "markdown",
   "metadata": {
    "slideshow": {
     "slide_type": "fragment"
    }
   },
   "source": [
    "- [Online & k-d tree optimization](https://hal.inria.fr/hal-01650272/document)"
   ]
  },
  {
   "cell_type": "markdown",
   "metadata": {
    "slideshow": {
     "slide_type": "slide"
    }
   },
   "source": [
    "Summary\n",
    "----\n",
    "\n",
    "- k-NN is a simple supervised classification algorithm that performs remarkably well\n",
    "- Thus, making it a good baseline model\n",
    "- k-NN Steps\n",
    "    1. Pick k \n",
    "    1. Get new sample to classify\n",
    "    1. Select the k entries that are closest to the new sample\n",
    "    1. Take a simple majority vote to pick category for new sample\n",
    "- Parametric models are common, simple, and fast\n",
    "- Nonparametric models are more complex and slower. But model the data better (if you have enough data)"
   ]
  },
  {
   "cell_type": "markdown",
   "metadata": {
    "slideshow": {
     "slide_type": "slide"
    }
   },
   "source": [
    "<br>\n"
   ]
  },
  {
   "cell_type": "markdown",
   "metadata": {
    "slideshow": {
     "slide_type": "slide"
    }
   },
   "source": [
    "----\n",
    "Bonus Material\n",
    "-----"
   ]
  },
  {
   "cell_type": "markdown",
   "metadata": {
    "slideshow": {
     "slide_type": "slide"
    }
   },
   "source": [
    "k-NN Decision Boundaries\n",
    "------\n",
    "\n",
    "<center><img src=\"https://s3.amazonaws.com/octoporess_blog/knn/pic3.png\" width=\"55%\"/></center>"
   ]
  },
  {
   "cell_type": "markdown",
   "metadata": {
    "slideshow": {
     "slide_type": "slide"
    }
   },
   "source": [
    "How does the boundary change as k increases?\n",
    "-----\n",
    "\n",
    "<center><img src=\"https://s3.amazonaws.com/octoporess_blog/knn/pic5.png\" width=\"55%\"/></center>"
   ]
  },
  {
   "cell_type": "markdown",
   "metadata": {
    "slideshow": {
     "slide_type": "fragment"
    }
   },
   "source": [
    "Boundary smooths out, aka becomes linear"
   ]
  },
  {
   "cell_type": "markdown",
   "metadata": {
    "slideshow": {
     "slide_type": "skip"
    }
   },
   "source": [
    "Source: http://idrisr.com/2012/04/09/knn.html"
   ]
  },
  {
   "cell_type": "markdown",
   "metadata": {
    "slideshow": {
     "slide_type": "slide"
    }
   },
   "source": [
    "KD Tree\n",
    "-----\n",
    "https://www.quora.com/What-is-a-kd-tree-and-what-is-it-used-for\n",
    "https://en.wikipedia.org/wiki/Ball_tree\n",
    "http://www.cs.cornell.edu/courses/cs4780/2015fa/web/lecturenotes/lecturenote16.html\n"
   ]
  }
 ],
 "metadata": {
  "celltoolbar": "Slideshow",
  "kernelspec": {
   "display_name": "Python 3",
   "language": "python",
   "name": "python3"
  },
  "language_info": {
   "codemirror_mode": {
    "name": "ipython",
    "version": 3
   },
   "file_extension": ".py",
   "mimetype": "text/x-python",
   "name": "python",
   "nbconvert_exporter": "python",
   "pygments_lexer": "ipython3",
   "version": "3.6.6"
  }
 },
 "nbformat": 4,
 "nbformat_minor": 2
}
