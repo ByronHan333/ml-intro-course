{
 "cells": [
  {
   "cell_type": "markdown",
   "metadata": {
    "slideshow": {
     "slide_type": "slide"
    }
   },
   "source": [
    "<center><h2>Machine Learning Modeling</h2></center>\n",
    "\n",
    "<center><img src=\"https://www.kdnuggets.com/images/cartoon-machine-learning-class.jpg\" width=\"70%\"/></center>"
   ]
  },
  {
   "cell_type": "markdown",
   "metadata": {
    "slideshow": {
     "slide_type": "slide"
    }
   },
   "source": [
    "How long does it take to become a good progammer?\n",
    "------"
   ]
  },
  {
   "cell_type": "markdown",
   "metadata": {
    "slideshow": {
     "slide_type": "slide"
    }
   },
   "source": [
    "<center><img src=\"images/norvig_head.jpg\" width=\"75%\"/></center>\n",
    "\n",
    "[Peter Norvig says about 10 years](http://norvig.com/21-days.html)"
   ]
  },
  {
   "cell_type": "markdown",
   "metadata": {
    "slideshow": {
     "slide_type": "slide"
    }
   },
   "source": [
    "How long does it take to become good at ML?\n",
    "------"
   ]
  },
  {
   "cell_type": "markdown",
   "metadata": {
    "slideshow": {
     "slide_type": "slide"
    }
   },
   "source": [
    "<center><img src=\"images/shortcut.jpg\" width=\"75%\"/></center>\n",
    "<center>10 years!</center>"
   ]
  },
  {
   "cell_type": "markdown",
   "metadata": {
    "slideshow": {
     "slide_type": "slide"
    }
   },
   "source": [
    "Methods to Technical Mastery\n",
    "=====\n",
    "\n",
    "1. Know\n",
    "2. Do\n"
   ]
  },
  {
   "cell_type": "markdown",
   "metadata": {
    "slideshow": {
     "slide_type": "slide"
    }
   },
   "source": [
    "Know\n",
    "----\n",
    "\n",
    "1. Define in Plain English\n",
    "2. Construct an analogy\n",
    "3. Identify a practical example\n",
    "4. Define in technical terms and mathematically"
   ]
  },
  {
   "cell_type": "markdown",
   "metadata": {
    "slideshow": {
     "slide_type": "slide"
    }
   },
   "source": [
    "DO\n",
    "---\n",
    "\n",
    "1. Calculate by hand\n",
    "2. Code from scratch (i.e., build an API)\n",
    "3. Code using the best library (i.e., call an API)"
   ]
  },
  {
   "cell_type": "markdown",
   "metadata": {
    "slideshow": {
     "slide_type": "slide"
    }
   },
   "source": [
    "For each concept in this program, strive for technical mastery."
   ]
  },
  {
   "cell_type": "markdown",
   "metadata": {
    "slideshow": {
     "slide_type": "slide"
    }
   },
   "source": [
    "By The End Of This Session You Should Be Able To:\n",
    "----\n",
    "\n",
    "- Define each term in our definition of Machine Learning \n",
    "- Explain the difference between an algorithm and a model\n",
    "- List the steps in ML Methodology"
   ]
  },
  {
   "cell_type": "markdown",
   "metadata": {
    "slideshow": {
     "slide_type": "slide"
    }
   },
   "source": [
    "What is the goal of Machine Learning (ML)?\n",
    "-------"
   ]
  },
  {
   "cell_type": "markdown",
   "metadata": {
    "slideshow": {
     "slide_type": "fragment"
    }
   },
   "source": [
    "Learn a function from data that can generalize to predict new data. "
   ]
  },
  {
   "cell_type": "markdown",
   "metadata": {
    "slideshow": {
     "slide_type": "slide"
    }
   },
   "source": [
    "ML goal: Learn a function from data that can generalize to predict new data\n",
    "-------\n",
    "\n",
    "- Learn - Not explicitly program\n"
   ]
  },
  {
   "cell_type": "markdown",
   "metadata": {
    "slideshow": {
     "slide_type": "fragment"
    }
   },
   "source": [
    "- Function - A computer function with inputs & outputs\n",
    "\n"
   ]
  },
  {
   "cell_type": "markdown",
   "metadata": {
    "slideshow": {
     "slide_type": "fragment"
    }
   },
   "source": [
    "- Data - More about that later"
   ]
  },
  {
   "cell_type": "markdown",
   "metadata": {
    "slideshow": {
     "slide_type": "fragment"
    }
   },
   "source": [
    "- Generalize to new data - Let's unexplore that"
   ]
  },
  {
   "cell_type": "markdown",
   "metadata": {
    "slideshow": {
     "slide_type": "slide"
    }
   },
   "source": [
    "Generalize from specific instances\n",
    "------\n",
    "<center><img src=\"http://upload.wikimedia.org/wikipedia/commons/1/18/Generalization_process_using_trees.jpg\" width=\"40%\"/></center>"
   ]
  },
  {
   "cell_type": "markdown",
   "metadata": {
    "slideshow": {
     "slide_type": "slide"
    }
   },
   "source": [
    "Interpolation vs Extrapolation\n",
    "-----\n",
    "\n",
    "<center><img src=\"https://media.buzzle.com/media/images-en/photos/education/mathematics/1200-607780-interpolation-vs-extrapolation.jpg\" width=\"75%\"/></center>"
   ]
  },
  {
   "cell_type": "markdown",
   "metadata": {
    "slideshow": {
     "slide_type": "slide"
    }
   },
   "source": [
    "<center><img src=\"https://pbs.twimg.com/media/DbKn2CUVMAE8Ljn.jpg:large\" width=\"80%\"/></center>"
   ]
  },
  {
   "cell_type": "markdown",
   "metadata": {
    "slideshow": {
     "slide_type": "skip"
    }
   },
   "source": [
    "[Source](https://twitter.com/fchollet)"
   ]
  },
  {
   "cell_type": "markdown",
   "metadata": {
    "slideshow": {
     "slide_type": "slide"
    }
   },
   "source": [
    "Why is ML (DL, AI, & NLP) so popular now?\n",
    "------"
   ]
  },
  {
   "cell_type": "markdown",
   "metadata": {
    "slideshow": {
     "slide_type": "slide"
    }
   },
   "source": [
    "1. Big Data\n",
    "1. Big Compute\n",
    "1. Big Algorithms"
   ]
  },
  {
   "cell_type": "markdown",
   "metadata": {
    "slideshow": {
     "slide_type": "slide"
    }
   },
   "source": [
    "Which is most important: Data, Compute, or Algorithms?\n",
    "------"
   ]
  },
  {
   "cell_type": "markdown",
   "metadata": {
    "slideshow": {
     "slide_type": "slide"
    }
   },
   "source": [
    "<center><img src=\"images/norvig.jpg\" width=\"100%\"/></center>"
   ]
  },
  {
   "cell_type": "markdown",
   "metadata": {
    "slideshow": {
     "slide_type": "slide"
    }
   },
   "source": [
    "Twin components of ML  👯\n",
    "------\n",
    "\n",
    "1. Methodology\n",
    "1. Algorithms"
   ]
  },
  {
   "cell_type": "markdown",
   "metadata": {
    "slideshow": {
     "slide_type": "slide"
    }
   },
   "source": [
    "In general, what is an algorithm?\n",
    "----"
   ]
  },
  {
   "cell_type": "markdown",
   "metadata": {
    "slideshow": {
     "slide_type": "fragment"
    }
   },
   "source": [
    "A series of explicit and unambiguous steps to reach an outcome."
   ]
  },
  {
   "cell_type": "markdown",
   "metadata": {
    "slideshow": {
     "slide_type": "fragment"
    }
   },
   "source": [
    "In the case of Machine Learning, the steps needed to go from raw data to predictions."
   ]
  },
  {
   "cell_type": "markdown",
   "metadata": {
    "slideshow": {
     "slide_type": "slide"
    }
   },
   "source": [
    "Check for understanding\n",
    "-----\n",
    "\n",
    "Can there be randomness in an algorithm? \n",
    "\n",
    "Can you apply the same algorithm twice and get two different results?"
   ]
  },
  {
   "cell_type": "markdown",
   "metadata": {
    "slideshow": {
     "slide_type": "fragment"
    }
   },
   "source": [
    "Yes - There will be randomness in our algorithms."
   ]
  },
  {
   "cell_type": "markdown",
   "metadata": {
    "slideshow": {
     "slide_type": "slide"
    }
   },
   "source": [
    "What is a model?\n",
    "-------\n",
    "\n",
    "The end result of applying a ML algorithm.\n",
    "\n",
    "An architecture with weights used to make predictions.\n",
    "\n",
    "For example, a regression model will have a set of coefficients with values."
   ]
  },
  {
   "cell_type": "markdown",
   "metadata": {
    "slideshow": {
     "slide_type": "slide"
    }
   },
   "source": [
    "<center><img src=\"images/cooking.png\" width=\"100%\"/></center>"
   ]
  },
  {
   "cell_type": "markdown",
   "metadata": {
    "slideshow": {
     "slide_type": "slide"
    }
   },
   "source": [
    "<center><img src=\"images/specrtrum.png\" width=\"100%\"/></center>"
   ]
  },
  {
   "cell_type": "markdown",
   "metadata": {
    "slideshow": {
     "slide_type": "skip"
    }
   },
   "source": [
    "ML code is a small part of larger systems\n",
    "------\n",
    "<center><img src=\"images/part.png\" width=\"100%\"/></center>"
   ]
  },
  {
   "cell_type": "markdown",
   "metadata": {
    "slideshow": {
     "slide_type": "slide"
    }
   },
   "source": [
    "ML Components\n",
    "------\n",
    "\n",
    "1. Data\n",
    "1. Training\n",
    "1. Prediction\n",
    "1. Performance Metrics"
   ]
  },
  {
   "cell_type": "markdown",
   "metadata": {
    "slideshow": {
     "slide_type": "slide"
    }
   },
   "source": [
    "ML ❤️s Data\n",
    "-----\n",
    "\n",
    "Lots of data: minimum 30-100 examples per target to make robust estimates"
   ]
  },
  {
   "cell_type": "markdown",
   "metadata": {
    "slideshow": {
     "slide_type": "slide"
    }
   },
   "source": [
    "Discussion: Can we have too much data?\n",
    "-----"
   ]
  },
  {
   "cell_type": "markdown",
   "metadata": {
    "slideshow": {
     "slide_type": "fragment"
    }
   },
   "source": [
    "Yes!\n",
    "\n",
    "1. Does not fit into memory. Since ML training is iterative, it must fit in memory. Even if it is distributed memory.\n",
    "1. Some types of algorithms are slow to train."
   ]
  },
  {
   "cell_type": "markdown",
   "metadata": {
    "slideshow": {
     "slide_type": "slide"
    }
   },
   "source": [
    "Clean data \n",
    "-----\n",
    "\n",
    "'cause ML just learns patterns\n",
    "\n",
    "Noisy data makes it hard to learn signal, models might learn the noise."
   ]
  },
  {
   "cell_type": "markdown",
   "metadata": {
    "slideshow": {
     "slide_type": "skip"
    }
   },
   "source": [
    "Need Targets/Labels\n",
    "-----\n",
    "\n",
    "Most algorithms assumes labels\n",
    "\n",
    "Most labeling is done by humans"
   ]
  },
  {
   "cell_type": "markdown",
   "metadata": {
    "slideshow": {
     "slide_type": "slide"
    }
   },
   "source": [
    "<center><img src=\"images/tensor.png\" width=\"100%\"/></center>"
   ]
  },
  {
   "cell_type": "markdown",
   "metadata": {
    "slideshow": {
     "slide_type": "skip"
    }
   },
   "source": [
    "Source Ana Kumar"
   ]
  },
  {
   "cell_type": "markdown",
   "metadata": {
    "slideshow": {
     "slide_type": "slide"
    }
   },
   "source": [
    "Training\n",
    "-----\n",
    "\n",
    "<center><img src=\"images/th.jpeg\" width=\"40%\"/></center>\n",
    "\n",
    "1. Start with a random guess\n",
    "2. See how wrong you are (loss function)\n",
    "3. Change the model to be less wrong\n",
    "4. Repeat 2-3 until \"done\""
   ]
  },
  {
   "cell_type": "markdown",
   "metadata": {
    "slideshow": {
     "slide_type": "slide"
    }
   },
   "source": [
    "Prediction\n",
    "------\n",
    "\n",
    "The goal of ML is prediction / inference.\n",
    "\n",
    "Test your predictions on __test data__, data that you already have put to the side during training (Train / Test split). The simplest kind of generalization. "
   ]
  },
  {
   "cell_type": "markdown",
   "metadata": {
    "slideshow": {
     "slide_type": "slide"
    }
   },
   "source": [
    "Metrics\n",
    "-----\n",
    "\n",
    "<center><img src=\"images/naked.jpg\" width=\"40%\"/></center>\n",
    "\n",
    "A number that measures how good your model performs.\n",
    "\n",
    "You want this to be a single number."
   ]
  },
  {
   "cell_type": "markdown",
   "metadata": {
    "slideshow": {
     "slide_type": "slide"
    }
   },
   "source": [
    "\n",
    "What are examples of ML performance metrics?\n",
    "-----"
   ]
  },
  {
   "cell_type": "markdown",
   "metadata": {
    "slideshow": {
     "slide_type": "fragment"
    }
   },
   "source": [
    "- Accuracy\n",
    "- Logarithmic Loss\n",
    "- True Positive / False Positive / True Negative / False Negative\n",
    "- Precision / Recall / F Score\n",
    "- Mean Absolute Error (MAE) / Mean Squared Error (MSE) \n",
    "- …"
   ]
  },
  {
   "cell_type": "markdown",
   "metadata": {
    "slideshow": {
     "slide_type": "slide"
    }
   },
   "source": [
    "Different job positions optimize different functions\n",
    "-------\n",
    "\n",
    "Data Scientists optimize the ML loss function to improve evaluation metrics.\n",
    "\n"
   ]
  },
  {
   "cell_type": "markdown",
   "metadata": {
    "slideshow": {
     "slide_type": "fragment"
    }
   },
   "source": [
    "Product Managers optimize the business function to improve business metrics."
   ]
  },
  {
   "cell_type": "markdown",
   "metadata": {
    "slideshow": {
     "slide_type": "slide"
    }
   },
   "source": [
    "What are examples of business metrics?\n",
    "------"
   ]
  },
  {
   "cell_type": "markdown",
   "metadata": {
    "slideshow": {
     "slide_type": "fragment"
    }
   },
   "source": [
    "- Profit"
   ]
  },
  {
   "cell_type": "markdown",
   "metadata": {
    "slideshow": {
     "slide_type": "fragment"
    }
   },
   "source": [
    "- Revenue / Revenue per employee\n",
    "- Long term value (LTV)\n",
    "- Customer acquisition cost (CAC) \n",
    "- Return on investment (ROI)"
   ]
  },
  {
   "cell_type": "markdown",
   "metadata": {
    "slideshow": {
     "slide_type": "slide"
    }
   },
   "source": [
    "Machine Learning Pipeline\n",
    "------\n",
    "\n",
    "<center><img src=\"images/pipelines.png\" width=\"100%\"/></center> "
   ]
  },
  {
   "cell_type": "markdown",
   "metadata": {
    "slideshow": {
     "slide_type": "slide"
    }
   },
   "source": [
    "Summary\n",
    "------\n",
    "\n",
    "- ML Components:\n",
    "    1. Data\n",
    "    1. Training\n",
    "    1. Prediction\n",
    "    1. Performance Metrics\n",
    "- Generalization is the ML model's performance on unseen data\n",
    "- We are going to use Data, Compute, and Algorithms to build ML models\n",
    "- Collect useful metrics as we go through this course\n"
   ]
  },
  {
   "cell_type": "markdown",
   "metadata": {
    "slideshow": {
     "slide_type": "slide"
    }
   },
   "source": [
    "<br>"
   ]
  },
  {
   "cell_type": "markdown",
   "metadata": {
    "slideshow": {
     "slide_type": "slide"
    }
   },
   "source": [
    "Bonus Material\n",
    "------"
   ]
  },
  {
   "cell_type": "markdown",
   "metadata": {
    "slideshow": {
     "slide_type": "skip"
    }
   },
   "source": [
    "Importance of Methodology\n",
    "------\n",
    "\n",
    "ML is driven from algorithmic researchers\n",
    "\n",
    "They plan a simple pure game - They want algorithms with no priors that get maximal accuracy. \n",
    "\n",
    "Applied ML plays a different game. You can explicit program in knowledge. You might scarifica accuracy for other things (e.g., interpretability or speed)."
   ]
  }
 ],
 "metadata": {
  "celltoolbar": "Slideshow",
  "kernelspec": {
   "display_name": "Python 3",
   "language": "python",
   "name": "python3"
  },
  "language_info": {
   "codemirror_mode": {
    "name": "ipython",
    "version": 3
   },
   "file_extension": ".py",
   "mimetype": "text/x-python",
   "name": "python",
   "nbconvert_exporter": "python",
   "pygments_lexer": "ipython3",
   "version": "3.6.6"
  }
 },
 "nbformat": 4,
 "nbformat_minor": 2
}
